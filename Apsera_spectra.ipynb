{
 "cells": [
  {
   "cell_type": "code",
   "execution_count": 1,
   "id": "1d9298e1-15a3-4598-a6fc-480e2aef38c6",
   "metadata": {},
   "outputs": [],
   "source": [
    "%matplotlib inline\n",
    "\n",
    "import numpy as np\n",
    "import pylab as plt"
   ]
  },
  {
   "cell_type": "code",
   "execution_count": 2,
   "id": "406a454e-1ba2-475a-9243-d629dfcfa480",
   "metadata": {},
   "outputs": [
    {
     "name": "stdout",
     "output_type": "stream",
     "text": [
      "Requirement already satisfied: pygdsm in ./miniconda3/lib/python3.12/site-packages (1.5.4)\n",
      "Requirement already satisfied: numpy in ./miniconda3/lib/python3.12/site-packages (from pygdsm) (1.26.4)\n",
      "Requirement already satisfied: scipy in ./miniconda3/lib/python3.12/site-packages (from pygdsm) (1.13.0)\n",
      "Requirement already satisfied: astropy in ./miniconda3/lib/python3.12/site-packages (from pygdsm) (6.1.0)\n",
      "Requirement already satisfied: h5py in ./miniconda3/lib/python3.12/site-packages (from pygdsm) (3.11.0)\n",
      "Requirement already satisfied: healpy in ./miniconda3/lib/python3.12/site-packages (from pygdsm) (1.16.6)\n",
      "Requirement already satisfied: matplotlib in ./miniconda3/lib/python3.12/site-packages (from pygdsm) (3.8.4)\n",
      "Requirement already satisfied: pyephem in ./miniconda3/lib/python3.12/site-packages (from pygdsm) (9.99)\n",
      "Requirement already satisfied: pytest in ./miniconda3/lib/python3.12/site-packages (from pygdsm) (8.2.1)\n",
      "Requirement already satisfied: pyerfa>=2.0.1.1 in ./miniconda3/lib/python3.12/site-packages (from astropy->pygdsm) (2.0.1.4)\n",
      "Requirement already satisfied: astropy-iers-data>=0.2024.4.29.0.28.48 in ./miniconda3/lib/python3.12/site-packages (from astropy->pygdsm) (0.2024.5.20.0.29.40)\n",
      "Requirement already satisfied: PyYAML>=3.13 in ./miniconda3/lib/python3.12/site-packages (from astropy->pygdsm) (6.0.1)\n",
      "Requirement already satisfied: packaging>=19.0 in ./miniconda3/lib/python3.12/site-packages (from astropy->pygdsm) (23.2)\n",
      "Requirement already satisfied: contourpy>=1.0.1 in ./miniconda3/lib/python3.12/site-packages (from matplotlib->pygdsm) (1.2.0)\n",
      "Requirement already satisfied: cycler>=0.10 in ./miniconda3/lib/python3.12/site-packages (from matplotlib->pygdsm) (0.11.0)\n",
      "Requirement already satisfied: fonttools>=4.22.0 in ./miniconda3/lib/python3.12/site-packages (from matplotlib->pygdsm) (4.51.0)\n",
      "Requirement already satisfied: kiwisolver>=1.3.1 in ./miniconda3/lib/python3.12/site-packages (from matplotlib->pygdsm) (1.4.5)\n",
      "Requirement already satisfied: pillow>=8 in ./miniconda3/lib/python3.12/site-packages (from matplotlib->pygdsm) (10.3.0)\n",
      "Requirement already satisfied: pyparsing>=2.3.1 in ./miniconda3/lib/python3.12/site-packages (from matplotlib->pygdsm) (3.1.2)\n",
      "Requirement already satisfied: python-dateutil>=2.7 in ./miniconda3/lib/python3.12/site-packages (from matplotlib->pygdsm) (2.8.2)\n",
      "Requirement already satisfied: ephem in ./miniconda3/lib/python3.12/site-packages (from pyephem->pygdsm) (4.1.5)\n",
      "Requirement already satisfied: iniconfig in ./miniconda3/lib/python3.12/site-packages (from pytest->pygdsm) (2.0.0)\n",
      "Requirement already satisfied: pluggy<2.0,>=1.5 in ./miniconda3/lib/python3.12/site-packages (from pytest->pygdsm) (1.5.0)\n",
      "Requirement already satisfied: six>=1.5 in ./miniconda3/lib/python3.12/site-packages (from python-dateutil>=2.7->matplotlib->pygdsm) (1.16.0)\n",
      "Requirement already satisfied: pygdsm in ./miniconda3/lib/python3.12/site-packages (1.5.4)\n",
      "Requirement already satisfied: numpy in ./miniconda3/lib/python3.12/site-packages (from pygdsm) (1.26.4)\n",
      "Requirement already satisfied: scipy in ./miniconda3/lib/python3.12/site-packages (from pygdsm) (1.13.0)\n",
      "Requirement already satisfied: astropy in ./miniconda3/lib/python3.12/site-packages (from pygdsm) (6.1.0)\n",
      "Requirement already satisfied: h5py in ./miniconda3/lib/python3.12/site-packages (from pygdsm) (3.11.0)\n",
      "Requirement already satisfied: healpy in ./miniconda3/lib/python3.12/site-packages (from pygdsm) (1.16.6)\n",
      "Requirement already satisfied: matplotlib in ./miniconda3/lib/python3.12/site-packages (from pygdsm) (3.8.4)\n",
      "Requirement already satisfied: pyephem in ./miniconda3/lib/python3.12/site-packages (from pygdsm) (9.99)\n",
      "Requirement already satisfied: pytest in ./miniconda3/lib/python3.12/site-packages (from pygdsm) (8.2.1)\n",
      "Requirement already satisfied: pyerfa>=2.0.1.1 in ./miniconda3/lib/python3.12/site-packages (from astropy->pygdsm) (2.0.1.4)\n",
      "Requirement already satisfied: astropy-iers-data>=0.2024.4.29.0.28.48 in ./miniconda3/lib/python3.12/site-packages (from astropy->pygdsm) (0.2024.5.20.0.29.40)\n",
      "Requirement already satisfied: PyYAML>=3.13 in ./miniconda3/lib/python3.12/site-packages (from astropy->pygdsm) (6.0.1)\n",
      "Requirement already satisfied: packaging>=19.0 in ./miniconda3/lib/python3.12/site-packages (from astropy->pygdsm) (23.2)\n",
      "Requirement already satisfied: contourpy>=1.0.1 in ./miniconda3/lib/python3.12/site-packages (from matplotlib->pygdsm) (1.2.0)\n",
      "Requirement already satisfied: cycler>=0.10 in ./miniconda3/lib/python3.12/site-packages (from matplotlib->pygdsm) (0.11.0)\n",
      "Requirement already satisfied: fonttools>=4.22.0 in ./miniconda3/lib/python3.12/site-packages (from matplotlib->pygdsm) (4.51.0)\n",
      "Requirement already satisfied: kiwisolver>=1.3.1 in ./miniconda3/lib/python3.12/site-packages (from matplotlib->pygdsm) (1.4.5)\n",
      "Requirement already satisfied: pillow>=8 in ./miniconda3/lib/python3.12/site-packages (from matplotlib->pygdsm) (10.3.0)\n",
      "Requirement already satisfied: pyparsing>=2.3.1 in ./miniconda3/lib/python3.12/site-packages (from matplotlib->pygdsm) (3.1.2)\n",
      "Requirement already satisfied: python-dateutil>=2.7 in ./miniconda3/lib/python3.12/site-packages (from matplotlib->pygdsm) (2.8.2)\n",
      "Requirement already satisfied: ephem in ./miniconda3/lib/python3.12/site-packages (from pyephem->pygdsm) (4.1.5)\n",
      "Requirement already satisfied: iniconfig in ./miniconda3/lib/python3.12/site-packages (from pytest->pygdsm) (2.0.0)\n",
      "Requirement already satisfied: pluggy<2.0,>=1.5 in ./miniconda3/lib/python3.12/site-packages (from pytest->pygdsm) (1.5.0)\n",
      "Requirement already satisfied: six>=1.5 in ./miniconda3/lib/python3.12/site-packages (from python-dateutil>=2.7->matplotlib->pygdsm) (1.16.0)\n"
     ]
    }
   ],
   "source": [
    "!pip3 install pygdsm\n",
    "!pip3 install pygdsm\n",
    "\n",
    "import healpy as hp\n",
    "import numpy as np\n",
    "import matplotlib.pyplot as plt\n",
    "import math\n",
    "import ephem\n",
    "from scipy.signal import correlate\n",
    "\n",
    "from scipy.optimize import curve_fit\n",
    "\n",
    "%matplotlib inline\n",
    "from pygdsm import GlobalSkyModel\n",
    "\n",
    "\n",
    "from astropy.timeseries import TimeSeries, BinnedTimeSeries\n",
    "from astropy.time import Time, TimeDelta\n",
    "from astropy.coordinates import Galactic, SkyCoord, FK5, EarthLocation, AltAz, Angle\n",
    "import astropy.units as u\n",
    "\n",
    "import pandas as pd\n",
    "from scipy.interpolate import Rbf, InterpolatedUnivariateSpline, RegularGridInterpolator\n"
   ]
  },
  {
   "cell_type": "code",
   "execution_count": 3,
   "id": "2cc4c2a9-ea32-4a41-b5c9-25b8261cf40b",
   "metadata": {},
   "outputs": [
    {
     "name": "stdout",
     "output_type": "stream",
     "text": [
      "['2012-05-19 05:45:00.000']\n"
     ]
    }
   ],
   "source": [
    "start_time_in_UTC = '2012-05-19 05:45:00'\n",
    "n_spectra = 1                  #Number of spectra to be taken\n",
    "delta_t_in_hours = 1            #Time interval between each spectra needed in hours\n",
    "\n",
    "t = Time(start_time_in_UTC, format = 'iso', scale= 'utc')\n",
    "\n",
    "ts = TimeSeries(time_start= start_time_in_UTC, time_delta= delta_t_in_hours *u.hour, n_samples= n_spectra)\n",
    "ts = ts.time\n",
    "print(ts)"
   ]
  },
  {
   "cell_type": "code",
   "execution_count": 4,
   "id": "faac2c66-d1b8-48fc-bef8-c85df298c4fa",
   "metadata": {},
   "outputs": [],
   "source": [
    "import glob\n",
    "import os\n",
    "import numpy as np\n",
    "from scipy import interpolate\n",
    "\n",
    "'''\n",
    "## In the rt_file, mention the filename of S11. Please check if it is in linear form. \n",
    "\n",
    "rt_file    = 'dipole_correct.txt'\n",
    "file_list  = sorted(glob.glob(os.path.join(beam_path,\"*farfield*.txt\")))\n",
    "#print(file_list)\n",
    "\n",
    "\n",
    "\n",
    "gamme_file = os.path.join(beam_path, rt_file)\n",
    "\n",
    "gamma_freq = []\n",
    "gamma_val  = []\n",
    "\n",
    "with open(gamme_file) as fa:\n",
    "    for line_aa in fa.readlines()[2:]:\n",
    "        line_aa = line_aa.strip()\n",
    "        col1    = line_aa.split('\\t')\n",
    "        _freq   = np.array(list(map(float, col1[0].split())))[0]\n",
    "        _val    = np.array(list(map(float, col1[1].split())))[0]\n",
    "        gamma_freq.append(_freq)\n",
    "        gamma_val.append(_val)\n",
    "        \n",
    "gamma_freq = np.array(gamma_freq)\n",
    "gamma_val  = np.array(gamma_val)\n",
    "gamma_val=10**(gamma_val/20)\n",
    "\n",
    "print(gamma_freq)\n",
    "print(gamma_val)\n",
    "gamma_func = interpolate.interp1d(gamma_freq, gamma_val)  '''\n",
    "\n",
    "\n",
    "## This below print statement is to verify our interpolation. print(gamma_func(any freq value)) \n",
    "## and check if it matches the value in the file\n",
    "#print(gamma_func(2.8))\n",
    "\n",
    "\n",
    "## The below code is for the beam definition. Please make sure to check the beam_def function before proceeding\n",
    "\n",
    "'''\n",
    "phi_res   = 1\n",
    "theta_res = 1\n",
    "\n",
    "phi_array   = np.arange(0, 360, phi_res)\n",
    "theta_array = np.arange(90, -90-theta_res, -theta_res) \n",
    "freq_array  = []\n",
    "file_array  = []\n",
    "\n",
    "def get_freq_from_file(filename):\n",
    "    _temp = os.path.basename(filename).replace('.txt','').replace('farfield','').replace('(f=','').replace(')','').replace('[1]','')\n",
    "    return float(_temp)\n",
    "    \n",
    "for ii, file_add in enumerate(file_list):\n",
    "    freq_array.append(get_freq_from_file(file_add))\n",
    "    file_array.append(file_add)\n",
    "    \n",
    "print(get_freq_from_file('farfield(f=2.608)[1].txt'))\n",
    "    \n",
    "np.testing.assert_array_equal(file_array, file_list)\n",
    "\n",
    "freq_array = np.array(freq_array)\n",
    "file_array = np.array(file_array)\n",
    "\n",
    "isort      = np.argsort(freq_array)\n",
    "freq_array = freq_array[isort]\n",
    "file_array = file_array[isort]\n",
    "\n",
    "beam_3D_unnorm = np.zeros((len(freq_array), len(theta_array), len(phi_array)))\n",
    "\n",
    "'''\n",
    "'''\n",
    "for ii, freq in enumerate(freq_array):\n",
    "    print(\"Processing frequency {} GHz\".format(freq))\n",
    "    file_add = file_array[ii]\n",
    "    with open(file_add) as fa:\n",
    "        for line_aa in fa.readlines()[2:]:\n",
    "            line_aa = line_aa.strip()\n",
    "            col1    = line_aa.split('\\t')\n",
    "            all_val = np.array(list(map(float, col1[0].split())))\n",
    "\n",
    "            theta   = 90-all_val[0] \n",
    "            phi     = all_val[1]\n",
    "            beam    = all_val[2]\n",
    "            print(theta)\n",
    "            \n",
    "\n",
    "            iphi    = np.where(phi_array==phi)[0][0]\n",
    "            itheta  = np.where(theta_array==theta)[0][0]\n",
    "            beam_3D_unnorm[ii, itheta, iphi] = 10**(beam/10)\n",
    "            \n",
    "\n",
    "\n",
    "beam_3D = np.zeros((len(freq_array), len(theta_array), len(phi_array)))\n",
    "\n",
    "print(beam_3D_unnorm[0, :,:].shape)\n",
    "\n",
    "\n",
    "for ifreq in range(beam_3D.shape[0]):\n",
    "    for itheta in range(beam_3D.shape[1]):\n",
    "        for iphi in range(beam_3D.shape[2]):\n",
    "            beam_3D[ifreq, itheta,iphi] = beam_3D_unnorm[ifreq, itheta,iphi]/np.amax(beam_3D_unnorm[ifreq,:,:])\n",
    "\n",
    "\n",
    "print(freq_array)    \n",
    "\n",
    "        \n",
    "theta_array_new = np.flip(theta_array)\n",
    "phi_array_new   = phi_array\n",
    "beam_3D_flip=np.flip(beam_3D,axis=1)\n",
    "print(beam_3D_flip[2,:,0],beam_3D[2,:,0])\n",
    "from scipy.interpolate import RegularGridInterpolator\n",
    "my_interpolating_function = RegularGridInterpolator((freq_array, theta_array_new,\n",
    "                                                     phi_array_new), beam_3D_flip)\n",
    "print(my_interpolating_function.shape)\n",
    "\n",
    "'''\n",
    "\n",
    "## Beam definition\n",
    "## If only the effect of S11 has to be checked (with ideal antenna beam), use the sin^(theta) beam. \n",
    "\n",
    "## Added\n",
    "\n",
    "#freq = [408, 1420, 23000]\n",
    "#phi_res   = 1\n",
    "#theta_res = 1\n",
    "\n",
    "#az   = np.arange(0, 360, phi_res)\n",
    "#alt = np.arange(90, -90-theta_res, -theta_res) \n",
    "\n",
    "## Added ends\n",
    "\n",
    "def beam_def(freq, alt, az):\n",
    "    if (alt<=0):\n",
    "        return 0\n",
    "    else:\n",
    "        return (math.cos(alt*PI/180)*math.sin(alt*PI/180))\n",
    "\n",
    "\n",
    "    \n",
    "#plt.plot(gamma_freq, gamma_val)\n",
    "#plt.xlim([2,4])\n",
    "#plt.show()"
   ]
  },
  {
   "cell_type": "code",
   "execution_count": 23,
   "id": "2464130f-0f79-4d1c-9261-db6666e830ed",
   "metadata": {},
   "outputs": [
    {
     "name": "stdout",
     "output_type": "stream",
     "text": [
      "[2h55m09.67251165s]\n",
      "0\n",
      "[2000.         2015.93625498 2031.87250996 2047.80876494 2063.74501992\n",
      " 2079.6812749  2095.61752988 2111.55378486 2127.49003984 2143.42629482\n",
      " 2159.3625498  2175.29880478 2191.23505976 2207.17131474 2223.10756972\n",
      " 2239.0438247  2254.98007968 2270.91633466 2286.85258964 2302.78884462\n",
      " 2318.7250996  2334.66135458 2350.59760956 2366.53386454 2382.47011952\n",
      " 2398.4063745  2414.34262948 2430.27888446 2446.21513944 2462.15139442\n",
      " 2478.0876494  2494.02390438 2509.96015936 2525.89641434 2541.83266932\n",
      " 2557.7689243  2573.70517928 2589.64143426 2605.57768924 2621.51394422\n",
      " 2637.4501992  2653.38645418 2669.32270916 2685.25896414 2701.19521912\n",
      " 2717.1314741  2733.06772908 2749.00398406 2764.94023904 2780.87649402\n",
      " 2796.812749   2812.74900398 2828.68525896 2844.62151394 2860.55776892\n",
      " 2876.4940239  2892.43027888 2908.36653386 2924.30278884 2940.23904382\n",
      " 2956.1752988  2972.11155378 2988.04780876 3003.98406375 3019.92031873\n",
      " 3035.85657371 3051.79282869 3067.72908367 3083.66533865 3099.60159363\n",
      " 3115.53784861 3131.47410359 3147.41035857 3163.34661355 3179.28286853\n",
      " 3195.21912351 3211.15537849 3227.09163347 3243.02788845 3258.96414343\n",
      " 3274.90039841 3290.83665339 3306.77290837 3322.70916335 3338.64541833\n",
      " 3354.58167331 3370.51792829 3386.45418327 3402.39043825 3418.32669323\n",
      " 3434.26294821 3450.19920319 3466.13545817 3482.07171315 3498.00796813\n",
      " 3513.94422311 3529.88047809 3545.81673307 3561.75298805 3577.68924303\n",
      " 3593.62549801 3609.56175299 3625.49800797 3641.43426295 3657.37051793\n",
      " 3673.30677291 3689.24302789 3705.17928287 3721.11553785 3737.05179283\n",
      " 3752.98804781 3768.92430279 3784.86055777 3800.79681275 3816.73306773\n",
      " 3832.66932271 3848.60557769 3864.54183267 3880.47808765 3896.41434263\n",
      " 3912.35059761 3928.28685259 3944.22310757 3960.15936255 3976.09561753\n",
      " 3992.03187251 4007.96812749 4023.90438247 4039.84063745 4055.77689243\n",
      " 4071.71314741 4087.64940239 4103.58565737 4119.52191235 4135.45816733\n",
      " 4151.39442231 4167.33067729 4183.26693227 4199.20318725 4215.13944223\n",
      " 4231.07569721 4247.01195219 4262.94820717 4278.88446215 4294.82071713\n",
      " 4310.75697211 4326.69322709 4342.62948207 4358.56573705 4374.50199203\n",
      " 4390.43824701 4406.37450199 4422.31075697 4438.24701195 4454.18326693\n",
      " 4470.11952191 4486.05577689 4501.99203187 4517.92828685 4533.86454183\n",
      " 4549.80079681 4565.73705179 4581.67330677 4597.60956175 4613.54581673\n",
      " 4629.48207171 4645.41832669 4661.35458167 4677.29083665 4693.22709163\n",
      " 4709.16334661 4725.09960159 4741.03585657 4756.97211155 4772.90836653\n",
      " 4788.84462151 4804.78087649 4820.71713147 4836.65338645 4852.58964143\n",
      " 4868.52589641 4884.46215139 4900.39840637 4916.33466135 4932.27091633\n",
      " 4948.20717131 4964.14342629 4980.07968127 4996.01593625 5011.95219124\n",
      " 5027.88844622 5043.8247012  5059.76095618 5075.69721116 5091.63346614\n",
      " 5107.56972112 5123.5059761  5139.44223108 5155.37848606 5171.31474104\n",
      " 5187.25099602 5203.187251   5219.12350598 5235.05976096 5250.99601594\n",
      " 5266.93227092 5282.8685259  5298.80478088 5314.74103586 5330.67729084\n",
      " 5346.61354582 5362.5498008  5378.48605578 5394.42231076 5410.35856574\n",
      " 5426.29482072 5442.2310757  5458.16733068 5474.10358566 5490.03984064\n",
      " 5505.97609562 5521.9123506  5537.84860558 5553.78486056 5569.72111554\n",
      " 5585.65737052 5601.5936255  5617.52988048 5633.46613546 5649.40239044\n",
      " 5665.33864542 5681.2749004  5697.21115538 5713.14741036 5729.08366534\n",
      " 5745.01992032 5760.9561753  5776.89243028 5792.82868526 5808.76494024\n",
      " 5824.70119522 5840.6374502  5856.57370518 5872.50996016 5888.44621514\n",
      " 5904.38247012 5920.3187251  5936.25498008 5952.19123506 5968.12749004\n",
      " 5984.06374502 6000.        ]\n"
     ]
    }
   ],
   "source": [
    "h = 6.62607157e-34\n",
    "k = 1.3806488e-23\n",
    "c = 2.99792458e+08\n",
    "TCMB = 2.72548\n",
    "f_start = 2000                  #Check the f_start and f_stop and change the number of channels accordingly\n",
    "f_stop = 6000\n",
    "No_of_Channels = 252\n",
    "Channel_width = 1000\n",
    "#N_SIDE = 64\n",
    "T_hot = 3730\n",
    "T_cold = 2730                    #T_cold and T_hot in Kelvins\n",
    "Time_in_UTC = ts\n",
    "latitude = 13.067439\n",
    "longitude =80.237617            #Latitude and longitude in degrees\n",
    "altitude = 0                     #Altitude in meters\n",
    "alpha = 0.0065                   #Temp. lapse rate (deg C per meter)\n",
    "PI = 3.14159265\n",
    "Noise_int_time = 3e+13\n",
    "Trx = 14\n",
    "T_atm = 1\n",
    "frequencies = np.linspace(f_start,f_stop, No_of_Channels, endpoint=True)\n",
    "CMB_Int = np.empty([No_of_Channels])\n",
    "P_hot = np.empty(No_of_Channels)\n",
    "P_cold = np.empty(No_of_Channels)\n",
    "P_dif = np.empty(No_of_Channels)\n",
    "cross_real = [0]*No_of_Channels\n",
    "cross_imag = [0]*No_of_Channels\n",
    "sumwt = [0]*No_of_Channels\n",
    "sigma = [0]*No_of_Channels\n",
    "spectra = [0]*n_spectra\n",
    "spectra_cross_imag = [0]*n_spectra\n",
    "#NPIX = hp.nside2npix(N_SIDE)\n",
    "\n",
    "#Refraction correction formula\n",
    "def refraction(alt_in_deg, altitude):\n",
    "    pres = 1010.*math.pow((1-6.5/288000*altitude),5.255)\n",
    "    if (altitude>11000):\n",
    "        temp = 211.5\n",
    "    else:\n",
    "        temp = 283.0 - (alpha * altitude)\n",
    "    R = 1.02/math.tan((alt_in_deg + (10.3/(alt_in_deg + 5.11)))*(PI/180))\n",
    "    if (alt_in_deg == 90):\n",
    "        R = R+ 0.0019279\n",
    "    tpcor = (pres/1000) * (283/temp)\n",
    "    R =  tpcor*(R/60)\n",
    "    return alt_in_deg +R\n",
    "\n",
    "\n",
    "\n",
    "Obs = ephem.Observer()\n",
    "t = Time(Time_in_UTC, scale='utc',location= EarthLocation(lat = latitude*u.deg, lon=longitude*u.deg, height=altitude*u.m))\n",
    "lst = t.sidereal_time('apparent')\n",
    "print(lst)\n",
    "#plt.xlabel('Altitutde')\n",
    "#plt.ylabel('Gain')\n",
    "#plt.plot(alt[1:180],beam_3D_flip[50,1:180,0]) \n",
    "print(beam_def(2.8,-70,0))\n",
    "print (frequencies)\n",
    "#print(NPIX)\n",
    "#plt.plot(beam_3D[100,1:90,0])"
   ]
  },
  {
   "cell_type": "code",
   "execution_count": 24,
   "id": "369ec36d-32b2-4c6c-8a77-e4ac6c617407",
   "metadata": {},
   "outputs": [],
   "source": [
    "from pygdsm import GlobalSkyModel16\n",
    "from pygdsm import GlobalSkyModel"
   ]
  },
  {
   "cell_type": "code",
   "execution_count": 25,
   "id": "1452eaa9-77d6-4555-ab0e-a5665f8a0f26",
   "metadata": {},
   "outputs": [
    {
     "name": "stdout",
     "output_type": "stream",
     "text": [
      "Got CMB Int!\n",
      "Got P_dif for calibration!\n"
     ]
    }
   ],
   "source": [
    "CMB_Int = ((2*h*1e+27*frequencies**3)/(c*c))/(np.exp((h*frequencies*1e+9)/(k*TCMB))-1)\n",
    "print(\"Got CMB Int!\")\n",
    "\n",
    "#P_hot and P_cold for calibration\n",
    "P_hot = (2*h*frequencies*1e9)/(np.exp((h*frequencies*1e9)/(k*T_hot))-1)\n",
    "P_cold = (2*h*frequencies*1e9)/(np.exp((h*frequencies*1e9)/(k*T_cold))-1)\n",
    "P_dif = P_hot -P_cold\n",
    "\n",
    "print(\"Got P_dif for calibration!\")"
   ]
  },
  {
   "cell_type": "code",
   "execution_count": 26,
   "id": "67fb790d-cd28-46e7-a79f-7c1646a2718d",
   "metadata": {},
   "outputs": [
    {
     "name": "stdout",
     "output_type": "stream",
     "text": [
      "Processing 2000.0 MHz...\n"
     ]
    },
    {
     "name": "stderr",
     "output_type": "stream",
     "text": [
      "setting the output map dtype to [dtype('float32')]\n"
     ]
    },
    {
     "name": "stdout",
     "output_type": "stream",
     "text": [
      "Completed 2000.0 MHz.\n",
      "Processing 2015.9362549800796 MHz...\n"
     ]
    },
    {
     "name": "stderr",
     "output_type": "stream",
     "text": [
      "setting the output map dtype to [dtype('float32')]\n"
     ]
    },
    {
     "name": "stdout",
     "output_type": "stream",
     "text": [
      "Completed 2015.9362549800796 MHz.\n",
      "Processing 2031.8725099601593 MHz...\n"
     ]
    },
    {
     "name": "stderr",
     "output_type": "stream",
     "text": [
      "setting the output map dtype to [dtype('float32')]\n"
     ]
    },
    {
     "name": "stdout",
     "output_type": "stream",
     "text": [
      "Completed 2031.8725099601593 MHz.\n",
      "Processing 2047.8087649402391 MHz...\n"
     ]
    },
    {
     "name": "stderr",
     "output_type": "stream",
     "text": [
      "setting the output map dtype to [dtype('float32')]\n"
     ]
    },
    {
     "name": "stdout",
     "output_type": "stream",
     "text": [
      "Completed 2047.8087649402391 MHz.\n",
      "Processing 2063.7450199203186 MHz...\n"
     ]
    },
    {
     "name": "stderr",
     "output_type": "stream",
     "text": [
      "setting the output map dtype to [dtype('float32')]\n"
     ]
    },
    {
     "name": "stdout",
     "output_type": "stream",
     "text": [
      "Completed 2063.7450199203186 MHz.\n",
      "Processing 2079.6812749003984 MHz...\n"
     ]
    },
    {
     "name": "stderr",
     "output_type": "stream",
     "text": [
      "setting the output map dtype to [dtype('float32')]\n"
     ]
    },
    {
     "name": "stdout",
     "output_type": "stream",
     "text": [
      "Completed 2079.6812749003984 MHz.\n",
      "Processing 2095.6175298804783 MHz...\n"
     ]
    },
    {
     "name": "stderr",
     "output_type": "stream",
     "text": [
      "setting the output map dtype to [dtype('float32')]\n"
     ]
    },
    {
     "name": "stdout",
     "output_type": "stream",
     "text": [
      "Completed 2095.6175298804783 MHz.\n",
      "Processing 2111.5537848605577 MHz...\n"
     ]
    },
    {
     "name": "stderr",
     "output_type": "stream",
     "text": [
      "setting the output map dtype to [dtype('float32')]\n"
     ]
    },
    {
     "name": "stdout",
     "output_type": "stream",
     "text": [
      "Completed 2111.5537848605577 MHz.\n",
      "Processing 2127.4900398406376 MHz...\n"
     ]
    },
    {
     "name": "stderr",
     "output_type": "stream",
     "text": [
      "setting the output map dtype to [dtype('float32')]\n"
     ]
    },
    {
     "name": "stdout",
     "output_type": "stream",
     "text": [
      "Completed 2127.4900398406376 MHz.\n",
      "Processing 2143.426294820717 MHz...\n"
     ]
    },
    {
     "name": "stderr",
     "output_type": "stream",
     "text": [
      "setting the output map dtype to [dtype('float32')]\n"
     ]
    },
    {
     "name": "stdout",
     "output_type": "stream",
     "text": [
      "Completed 2143.426294820717 MHz.\n",
      "Processing 2159.362549800797 MHz...\n"
     ]
    },
    {
     "name": "stderr",
     "output_type": "stream",
     "text": [
      "setting the output map dtype to [dtype('float32')]\n"
     ]
    },
    {
     "name": "stdout",
     "output_type": "stream",
     "text": [
      "Completed 2159.362549800797 MHz.\n",
      "Processing 2175.2988047808767 MHz...\n"
     ]
    },
    {
     "name": "stderr",
     "output_type": "stream",
     "text": [
      "setting the output map dtype to [dtype('float32')]\n"
     ]
    },
    {
     "name": "stdout",
     "output_type": "stream",
     "text": [
      "Completed 2175.2988047808767 MHz.\n",
      "Processing 2191.235059760956 MHz...\n"
     ]
    },
    {
     "name": "stderr",
     "output_type": "stream",
     "text": [
      "setting the output map dtype to [dtype('float32')]\n"
     ]
    },
    {
     "name": "stdout",
     "output_type": "stream",
     "text": [
      "Completed 2191.235059760956 MHz.\n",
      "Processing 2207.171314741036 MHz...\n"
     ]
    },
    {
     "name": "stderr",
     "output_type": "stream",
     "text": [
      "setting the output map dtype to [dtype('float32')]\n"
     ]
    },
    {
     "name": "stdout",
     "output_type": "stream",
     "text": [
      "Completed 2207.171314741036 MHz.\n",
      "Processing 2223.1075697211154 MHz...\n"
     ]
    },
    {
     "name": "stderr",
     "output_type": "stream",
     "text": [
      "setting the output map dtype to [dtype('float32')]\n"
     ]
    },
    {
     "name": "stdout",
     "output_type": "stream",
     "text": [
      "Completed 2223.1075697211154 MHz.\n",
      "Processing 2239.0438247011953 MHz...\n"
     ]
    },
    {
     "name": "stderr",
     "output_type": "stream",
     "text": [
      "setting the output map dtype to [dtype('float32')]\n"
     ]
    },
    {
     "name": "stdout",
     "output_type": "stream",
     "text": [
      "Completed 2239.0438247011953 MHz.\n",
      "Processing 2254.980079681275 MHz...\n"
     ]
    },
    {
     "name": "stderr",
     "output_type": "stream",
     "text": [
      "setting the output map dtype to [dtype('float32')]\n"
     ]
    },
    {
     "name": "stdout",
     "output_type": "stream",
     "text": [
      "Completed 2254.980079681275 MHz.\n",
      "Processing 2270.9163346613545 MHz...\n"
     ]
    },
    {
     "name": "stderr",
     "output_type": "stream",
     "text": [
      "setting the output map dtype to [dtype('float32')]\n"
     ]
    },
    {
     "name": "stdout",
     "output_type": "stream",
     "text": [
      "Completed 2270.9163346613545 MHz.\n",
      "Processing 2286.8525896414344 MHz...\n"
     ]
    },
    {
     "name": "stderr",
     "output_type": "stream",
     "text": [
      "setting the output map dtype to [dtype('float32')]\n"
     ]
    },
    {
     "name": "stdout",
     "output_type": "stream",
     "text": [
      "Completed 2286.8525896414344 MHz.\n",
      "Processing 2302.788844621514 MHz...\n"
     ]
    },
    {
     "name": "stderr",
     "output_type": "stream",
     "text": [
      "setting the output map dtype to [dtype('float32')]\n"
     ]
    },
    {
     "name": "stdout",
     "output_type": "stream",
     "text": [
      "Completed 2302.788844621514 MHz.\n",
      "Processing 2318.7250996015937 MHz...\n"
     ]
    },
    {
     "name": "stderr",
     "output_type": "stream",
     "text": [
      "setting the output map dtype to [dtype('float32')]\n"
     ]
    },
    {
     "name": "stdout",
     "output_type": "stream",
     "text": [
      "Completed 2318.7250996015937 MHz.\n",
      "Processing 2334.6613545816735 MHz...\n"
     ]
    },
    {
     "name": "stderr",
     "output_type": "stream",
     "text": [
      "setting the output map dtype to [dtype('float32')]\n"
     ]
    },
    {
     "name": "stdout",
     "output_type": "stream",
     "text": [
      "Completed 2334.6613545816735 MHz.\n",
      "Processing 2350.597609561753 MHz...\n"
     ]
    },
    {
     "name": "stderr",
     "output_type": "stream",
     "text": [
      "setting the output map dtype to [dtype('float32')]\n"
     ]
    },
    {
     "name": "stdout",
     "output_type": "stream",
     "text": [
      "Completed 2350.597609561753 MHz.\n",
      "Processing 2366.533864541833 MHz...\n"
     ]
    },
    {
     "name": "stderr",
     "output_type": "stream",
     "text": [
      "setting the output map dtype to [dtype('float32')]\n"
     ]
    },
    {
     "name": "stdout",
     "output_type": "stream",
     "text": [
      "Completed 2366.533864541833 MHz.\n",
      "Processing 2382.4701195219122 MHz...\n"
     ]
    },
    {
     "name": "stderr",
     "output_type": "stream",
     "text": [
      "setting the output map dtype to [dtype('float32')]\n"
     ]
    },
    {
     "name": "stdout",
     "output_type": "stream",
     "text": [
      "Completed 2382.4701195219122 MHz.\n",
      "Processing 2398.406374501992 MHz...\n"
     ]
    },
    {
     "name": "stderr",
     "output_type": "stream",
     "text": [
      "setting the output map dtype to [dtype('float32')]\n"
     ]
    },
    {
     "name": "stdout",
     "output_type": "stream",
     "text": [
      "Completed 2398.406374501992 MHz.\n",
      "Processing 2414.342629482072 MHz...\n"
     ]
    },
    {
     "name": "stderr",
     "output_type": "stream",
     "text": [
      "setting the output map dtype to [dtype('float32')]\n"
     ]
    },
    {
     "name": "stdout",
     "output_type": "stream",
     "text": [
      "Completed 2414.342629482072 MHz.\n",
      "Processing 2430.2788844621514 MHz...\n"
     ]
    },
    {
     "name": "stderr",
     "output_type": "stream",
     "text": [
      "setting the output map dtype to [dtype('float32')]\n"
     ]
    },
    {
     "name": "stdout",
     "output_type": "stream",
     "text": [
      "Completed 2430.2788844621514 MHz.\n",
      "Processing 2446.2151394422312 MHz...\n"
     ]
    },
    {
     "name": "stderr",
     "output_type": "stream",
     "text": [
      "setting the output map dtype to [dtype('float32')]\n"
     ]
    },
    {
     "name": "stdout",
     "output_type": "stream",
     "text": [
      "Completed 2446.2151394422312 MHz.\n",
      "Processing 2462.1513944223107 MHz...\n"
     ]
    },
    {
     "name": "stderr",
     "output_type": "stream",
     "text": [
      "setting the output map dtype to [dtype('float32')]\n"
     ]
    },
    {
     "name": "stdout",
     "output_type": "stream",
     "text": [
      "Completed 2462.1513944223107 MHz.\n",
      "Processing 2478.0876494023905 MHz...\n"
     ]
    },
    {
     "name": "stderr",
     "output_type": "stream",
     "text": [
      "setting the output map dtype to [dtype('float32')]\n"
     ]
    },
    {
     "name": "stdout",
     "output_type": "stream",
     "text": [
      "Completed 2478.0876494023905 MHz.\n",
      "Processing 2494.02390438247 MHz...\n"
     ]
    },
    {
     "name": "stderr",
     "output_type": "stream",
     "text": [
      "setting the output map dtype to [dtype('float32')]\n"
     ]
    },
    {
     "name": "stdout",
     "output_type": "stream",
     "text": [
      "Completed 2494.02390438247 MHz.\n",
      "Processing 2509.96015936255 MHz...\n"
     ]
    },
    {
     "name": "stderr",
     "output_type": "stream",
     "text": [
      "setting the output map dtype to [dtype('float32')]\n"
     ]
    },
    {
     "name": "stdout",
     "output_type": "stream",
     "text": [
      "Completed 2509.96015936255 MHz.\n",
      "Processing 2525.896414342629 MHz...\n"
     ]
    },
    {
     "name": "stderr",
     "output_type": "stream",
     "text": [
      "setting the output map dtype to [dtype('float32')]\n"
     ]
    },
    {
     "name": "stdout",
     "output_type": "stream",
     "text": [
      "Completed 2525.896414342629 MHz.\n",
      "Processing 2541.832669322709 MHz...\n"
     ]
    },
    {
     "name": "stderr",
     "output_type": "stream",
     "text": [
      "setting the output map dtype to [dtype('float32')]\n"
     ]
    },
    {
     "name": "stdout",
     "output_type": "stream",
     "text": [
      "Completed 2541.832669322709 MHz.\n",
      "Processing 2557.768924302789 MHz...\n"
     ]
    },
    {
     "name": "stderr",
     "output_type": "stream",
     "text": [
      "setting the output map dtype to [dtype('float32')]\n"
     ]
    },
    {
     "name": "stdout",
     "output_type": "stream",
     "text": [
      "Completed 2557.768924302789 MHz.\n",
      "Processing 2573.705179282869 MHz...\n"
     ]
    },
    {
     "name": "stderr",
     "output_type": "stream",
     "text": [
      "setting the output map dtype to [dtype('float32')]\n"
     ]
    },
    {
     "name": "stdout",
     "output_type": "stream",
     "text": [
      "Completed 2573.705179282869 MHz.\n",
      "Processing 2589.641434262948 MHz...\n"
     ]
    },
    {
     "name": "stderr",
     "output_type": "stream",
     "text": [
      "setting the output map dtype to [dtype('float32')]\n"
     ]
    },
    {
     "name": "stdout",
     "output_type": "stream",
     "text": [
      "Completed 2589.641434262948 MHz.\n",
      "Processing 2605.5776892430276 MHz...\n"
     ]
    },
    {
     "name": "stderr",
     "output_type": "stream",
     "text": [
      "setting the output map dtype to [dtype('float32')]\n"
     ]
    },
    {
     "name": "stdout",
     "output_type": "stream",
     "text": [
      "Completed 2605.5776892430276 MHz.\n",
      "Processing 2621.5139442231075 MHz...\n"
     ]
    },
    {
     "name": "stderr",
     "output_type": "stream",
     "text": [
      "setting the output map dtype to [dtype('float32')]\n"
     ]
    },
    {
     "name": "stdout",
     "output_type": "stream",
     "text": [
      "Completed 2621.5139442231075 MHz.\n",
      "Processing 2637.4501992031874 MHz...\n"
     ]
    },
    {
     "name": "stderr",
     "output_type": "stream",
     "text": [
      "setting the output map dtype to [dtype('float32')]\n"
     ]
    },
    {
     "name": "stdout",
     "output_type": "stream",
     "text": [
      "Completed 2637.4501992031874 MHz.\n",
      "Processing 2653.386454183267 MHz...\n"
     ]
    },
    {
     "name": "stderr",
     "output_type": "stream",
     "text": [
      "setting the output map dtype to [dtype('float32')]\n"
     ]
    },
    {
     "name": "stdout",
     "output_type": "stream",
     "text": [
      "Completed 2653.386454183267 MHz.\n",
      "Processing 2669.3227091633466 MHz...\n"
     ]
    },
    {
     "name": "stderr",
     "output_type": "stream",
     "text": [
      "setting the output map dtype to [dtype('float32')]\n"
     ]
    },
    {
     "name": "stdout",
     "output_type": "stream",
     "text": [
      "Completed 2669.3227091633466 MHz.\n",
      "Processing 2685.258964143426 MHz...\n"
     ]
    },
    {
     "name": "stderr",
     "output_type": "stream",
     "text": [
      "setting the output map dtype to [dtype('float32')]\n"
     ]
    },
    {
     "name": "stdout",
     "output_type": "stream",
     "text": [
      "Completed 2685.258964143426 MHz.\n",
      "Processing 2701.195219123506 MHz...\n"
     ]
    },
    {
     "name": "stderr",
     "output_type": "stream",
     "text": [
      "setting the output map dtype to [dtype('float32')]\n"
     ]
    },
    {
     "name": "stdout",
     "output_type": "stream",
     "text": [
      "Completed 2701.195219123506 MHz.\n",
      "Processing 2717.131474103586 MHz...\n"
     ]
    },
    {
     "name": "stderr",
     "output_type": "stream",
     "text": [
      "setting the output map dtype to [dtype('float32')]\n"
     ]
    },
    {
     "name": "stdout",
     "output_type": "stream",
     "text": [
      "Completed 2717.131474103586 MHz.\n",
      "Processing 2733.067729083665 MHz...\n"
     ]
    },
    {
     "name": "stderr",
     "output_type": "stream",
     "text": [
      "setting the output map dtype to [dtype('float32')]\n"
     ]
    },
    {
     "name": "stdout",
     "output_type": "stream",
     "text": [
      "Completed 2733.067729083665 MHz.\n",
      "Processing 2749.003984063745 MHz...\n"
     ]
    },
    {
     "name": "stderr",
     "output_type": "stream",
     "text": [
      "setting the output map dtype to [dtype('float32')]\n"
     ]
    },
    {
     "name": "stdout",
     "output_type": "stream",
     "text": [
      "Completed 2749.003984063745 MHz.\n",
      "Processing 2764.9402390438245 MHz...\n"
     ]
    },
    {
     "name": "stderr",
     "output_type": "stream",
     "text": [
      "setting the output map dtype to [dtype('float32')]\n"
     ]
    },
    {
     "name": "stdout",
     "output_type": "stream",
     "text": [
      "Completed 2764.9402390438245 MHz.\n",
      "Processing 2780.8764940239043 MHz...\n"
     ]
    },
    {
     "name": "stderr",
     "output_type": "stream",
     "text": [
      "setting the output map dtype to [dtype('float32')]\n"
     ]
    },
    {
     "name": "stdout",
     "output_type": "stream",
     "text": [
      "Completed 2780.8764940239043 MHz.\n",
      "Processing 2796.812749003984 MHz...\n"
     ]
    },
    {
     "name": "stderr",
     "output_type": "stream",
     "text": [
      "setting the output map dtype to [dtype('float32')]\n"
     ]
    },
    {
     "name": "stdout",
     "output_type": "stream",
     "text": [
      "Completed 2796.812749003984 MHz.\n",
      "Processing 2812.7490039840636 MHz...\n"
     ]
    },
    {
     "name": "stderr",
     "output_type": "stream",
     "text": [
      "setting the output map dtype to [dtype('float32')]\n"
     ]
    },
    {
     "name": "stdout",
     "output_type": "stream",
     "text": [
      "Completed 2812.7490039840636 MHz.\n",
      "Processing 2828.6852589641435 MHz...\n"
     ]
    },
    {
     "name": "stderr",
     "output_type": "stream",
     "text": [
      "setting the output map dtype to [dtype('float32')]\n"
     ]
    },
    {
     "name": "stdout",
     "output_type": "stream",
     "text": [
      "Completed 2828.6852589641435 MHz.\n",
      "Processing 2844.621513944223 MHz...\n"
     ]
    },
    {
     "name": "stderr",
     "output_type": "stream",
     "text": [
      "setting the output map dtype to [dtype('float32')]\n"
     ]
    },
    {
     "name": "stdout",
     "output_type": "stream",
     "text": [
      "Completed 2844.621513944223 MHz.\n",
      "Processing 2860.5577689243028 MHz...\n"
     ]
    },
    {
     "name": "stderr",
     "output_type": "stream",
     "text": [
      "setting the output map dtype to [dtype('float32')]\n"
     ]
    },
    {
     "name": "stdout",
     "output_type": "stream",
     "text": [
      "Completed 2860.5577689243028 MHz.\n",
      "Processing 2876.4940239043826 MHz...\n"
     ]
    },
    {
     "name": "stderr",
     "output_type": "stream",
     "text": [
      "setting the output map dtype to [dtype('float32')]\n"
     ]
    },
    {
     "name": "stdout",
     "output_type": "stream",
     "text": [
      "Completed 2876.4940239043826 MHz.\n",
      "Processing 2892.430278884462 MHz...\n"
     ]
    },
    {
     "name": "stderr",
     "output_type": "stream",
     "text": [
      "setting the output map dtype to [dtype('float32')]\n"
     ]
    },
    {
     "name": "stdout",
     "output_type": "stream",
     "text": [
      "Completed 2892.430278884462 MHz.\n",
      "Processing 2908.366533864542 MHz...\n"
     ]
    },
    {
     "name": "stderr",
     "output_type": "stream",
     "text": [
      "setting the output map dtype to [dtype('float32')]\n"
     ]
    },
    {
     "name": "stdout",
     "output_type": "stream",
     "text": [
      "Completed 2908.366533864542 MHz.\n",
      "Processing 2924.3027888446213 MHz...\n"
     ]
    },
    {
     "name": "stderr",
     "output_type": "stream",
     "text": [
      "setting the output map dtype to [dtype('float32')]\n"
     ]
    },
    {
     "name": "stdout",
     "output_type": "stream",
     "text": [
      "Completed 2924.3027888446213 MHz.\n",
      "Processing 2940.239043824701 MHz...\n"
     ]
    },
    {
     "name": "stderr",
     "output_type": "stream",
     "text": [
      "setting the output map dtype to [dtype('float32')]\n"
     ]
    },
    {
     "name": "stdout",
     "output_type": "stream",
     "text": [
      "Completed 2940.239043824701 MHz.\n",
      "Processing 2956.175298804781 MHz...\n"
     ]
    },
    {
     "name": "stderr",
     "output_type": "stream",
     "text": [
      "setting the output map dtype to [dtype('float32')]\n"
     ]
    },
    {
     "name": "stdout",
     "output_type": "stream",
     "text": [
      "Completed 2956.175298804781 MHz.\n",
      "Processing 2972.1115537848605 MHz...\n"
     ]
    },
    {
     "name": "stderr",
     "output_type": "stream",
     "text": [
      "setting the output map dtype to [dtype('float32')]\n"
     ]
    },
    {
     "name": "stdout",
     "output_type": "stream",
     "text": [
      "Completed 2972.1115537848605 MHz.\n",
      "Processing 2988.0478087649403 MHz...\n"
     ]
    },
    {
     "name": "stderr",
     "output_type": "stream",
     "text": [
      "setting the output map dtype to [dtype('float32')]\n"
     ]
    },
    {
     "name": "stdout",
     "output_type": "stream",
     "text": [
      "Completed 2988.0478087649403 MHz.\n",
      "Processing 3003.9840637450197 MHz...\n"
     ]
    },
    {
     "name": "stderr",
     "output_type": "stream",
     "text": [
      "setting the output map dtype to [dtype('float32')]\n"
     ]
    },
    {
     "name": "stdout",
     "output_type": "stream",
     "text": [
      "Completed 3003.9840637450197 MHz.\n",
      "Processing 3019.9203187250996 MHz...\n"
     ]
    },
    {
     "name": "stderr",
     "output_type": "stream",
     "text": [
      "setting the output map dtype to [dtype('float32')]\n"
     ]
    },
    {
     "name": "stdout",
     "output_type": "stream",
     "text": [
      "Completed 3019.9203187250996 MHz.\n",
      "Processing 3035.8565737051795 MHz...\n"
     ]
    },
    {
     "name": "stderr",
     "output_type": "stream",
     "text": [
      "setting the output map dtype to [dtype('float32')]\n"
     ]
    },
    {
     "name": "stdout",
     "output_type": "stream",
     "text": [
      "Completed 3035.8565737051795 MHz.\n",
      "Processing 3051.792828685259 MHz...\n"
     ]
    },
    {
     "name": "stderr",
     "output_type": "stream",
     "text": [
      "setting the output map dtype to [dtype('float32')]\n"
     ]
    },
    {
     "name": "stdout",
     "output_type": "stream",
     "text": [
      "Completed 3051.792828685259 MHz.\n",
      "Processing 3067.7290836653387 MHz...\n"
     ]
    },
    {
     "name": "stderr",
     "output_type": "stream",
     "text": [
      "setting the output map dtype to [dtype('float32')]\n"
     ]
    },
    {
     "name": "stdout",
     "output_type": "stream",
     "text": [
      "Completed 3067.7290836653387 MHz.\n",
      "Processing 3083.665338645418 MHz...\n"
     ]
    },
    {
     "name": "stderr",
     "output_type": "stream",
     "text": [
      "setting the output map dtype to [dtype('float32')]\n"
     ]
    },
    {
     "name": "stdout",
     "output_type": "stream",
     "text": [
      "Completed 3083.665338645418 MHz.\n",
      "Processing 3099.601593625498 MHz...\n"
     ]
    },
    {
     "name": "stderr",
     "output_type": "stream",
     "text": [
      "setting the output map dtype to [dtype('float32')]\n"
     ]
    },
    {
     "name": "stdout",
     "output_type": "stream",
     "text": [
      "Completed 3099.601593625498 MHz.\n",
      "Processing 3115.537848605578 MHz...\n"
     ]
    },
    {
     "name": "stderr",
     "output_type": "stream",
     "text": [
      "setting the output map dtype to [dtype('float32')]\n"
     ]
    },
    {
     "name": "stdout",
     "output_type": "stream",
     "text": [
      "Completed 3115.537848605578 MHz.\n",
      "Processing 3131.4741035856573 MHz...\n"
     ]
    },
    {
     "name": "stderr",
     "output_type": "stream",
     "text": [
      "setting the output map dtype to [dtype('float32')]\n"
     ]
    },
    {
     "name": "stdout",
     "output_type": "stream",
     "text": [
      "Completed 3131.4741035856573 MHz.\n",
      "Processing 3147.410358565737 MHz...\n"
     ]
    },
    {
     "name": "stderr",
     "output_type": "stream",
     "text": [
      "setting the output map dtype to [dtype('float32')]\n"
     ]
    },
    {
     "name": "stdout",
     "output_type": "stream",
     "text": [
      "Completed 3147.410358565737 MHz.\n",
      "Processing 3163.3466135458166 MHz...\n"
     ]
    },
    {
     "name": "stderr",
     "output_type": "stream",
     "text": [
      "setting the output map dtype to [dtype('float32')]\n"
     ]
    },
    {
     "name": "stdout",
     "output_type": "stream",
     "text": [
      "Completed 3163.3466135458166 MHz.\n",
      "Processing 3179.2828685258964 MHz...\n"
     ]
    },
    {
     "name": "stderr",
     "output_type": "stream",
     "text": [
      "setting the output map dtype to [dtype('float32')]\n"
     ]
    },
    {
     "name": "stdout",
     "output_type": "stream",
     "text": [
      "Completed 3179.2828685258964 MHz.\n",
      "Processing 3195.2191235059763 MHz...\n"
     ]
    },
    {
     "name": "stderr",
     "output_type": "stream",
     "text": [
      "setting the output map dtype to [dtype('float32')]\n"
     ]
    },
    {
     "name": "stdout",
     "output_type": "stream",
     "text": [
      "Completed 3195.2191235059763 MHz.\n",
      "Processing 3211.1553784860557 MHz...\n"
     ]
    },
    {
     "name": "stderr",
     "output_type": "stream",
     "text": [
      "setting the output map dtype to [dtype('float32')]\n"
     ]
    },
    {
     "name": "stdout",
     "output_type": "stream",
     "text": [
      "Completed 3211.1553784860557 MHz.\n",
      "Processing 3227.091633466135 MHz...\n"
     ]
    },
    {
     "name": "stderr",
     "output_type": "stream",
     "text": [
      "setting the output map dtype to [dtype('float32')]\n"
     ]
    },
    {
     "name": "stdout",
     "output_type": "stream",
     "text": [
      "Completed 3227.091633466135 MHz.\n",
      "Processing 3243.027888446215 MHz...\n"
     ]
    },
    {
     "name": "stderr",
     "output_type": "stream",
     "text": [
      "setting the output map dtype to [dtype('float32')]\n"
     ]
    },
    {
     "name": "stdout",
     "output_type": "stream",
     "text": [
      "Completed 3243.027888446215 MHz.\n",
      "Processing 3258.964143426295 MHz...\n"
     ]
    },
    {
     "name": "stderr",
     "output_type": "stream",
     "text": [
      "setting the output map dtype to [dtype('float32')]\n"
     ]
    },
    {
     "name": "stdout",
     "output_type": "stream",
     "text": [
      "Completed 3258.964143426295 MHz.\n",
      "Processing 3274.9003984063747 MHz...\n"
     ]
    },
    {
     "name": "stderr",
     "output_type": "stream",
     "text": [
      "setting the output map dtype to [dtype('float32')]\n"
     ]
    },
    {
     "name": "stdout",
     "output_type": "stream",
     "text": [
      "Completed 3274.9003984063747 MHz.\n",
      "Processing 3290.836653386454 MHz...\n"
     ]
    },
    {
     "name": "stderr",
     "output_type": "stream",
     "text": [
      "setting the output map dtype to [dtype('float32')]\n"
     ]
    },
    {
     "name": "stdout",
     "output_type": "stream",
     "text": [
      "Completed 3290.836653386454 MHz.\n",
      "Processing 3306.7729083665336 MHz...\n"
     ]
    },
    {
     "name": "stderr",
     "output_type": "stream",
     "text": [
      "setting the output map dtype to [dtype('float32')]\n"
     ]
    },
    {
     "name": "stdout",
     "output_type": "stream",
     "text": [
      "Completed 3306.7729083665336 MHz.\n",
      "Processing 3322.7091633466134 MHz...\n"
     ]
    },
    {
     "name": "stderr",
     "output_type": "stream",
     "text": [
      "setting the output map dtype to [dtype('float32')]\n"
     ]
    },
    {
     "name": "stdout",
     "output_type": "stream",
     "text": [
      "Completed 3322.7091633466134 MHz.\n",
      "Processing 3338.6454183266933 MHz...\n"
     ]
    },
    {
     "name": "stderr",
     "output_type": "stream",
     "text": [
      "setting the output map dtype to [dtype('float32')]\n"
     ]
    },
    {
     "name": "stdout",
     "output_type": "stream",
     "text": [
      "Completed 3338.6454183266933 MHz.\n",
      "Processing 3354.581673306773 MHz...\n"
     ]
    },
    {
     "name": "stderr",
     "output_type": "stream",
     "text": [
      "setting the output map dtype to [dtype('float32')]\n"
     ]
    },
    {
     "name": "stdout",
     "output_type": "stream",
     "text": [
      "Completed 3354.581673306773 MHz.\n",
      "Processing 3370.5179282868526 MHz...\n"
     ]
    },
    {
     "name": "stderr",
     "output_type": "stream",
     "text": [
      "setting the output map dtype to [dtype('float32')]\n"
     ]
    },
    {
     "name": "stdout",
     "output_type": "stream",
     "text": [
      "Completed 3370.5179282868526 MHz.\n",
      "Processing 3386.454183266932 MHz...\n"
     ]
    },
    {
     "name": "stderr",
     "output_type": "stream",
     "text": [
      "setting the output map dtype to [dtype('float32')]\n"
     ]
    },
    {
     "name": "stdout",
     "output_type": "stream",
     "text": [
      "Completed 3386.454183266932 MHz.\n",
      "Processing 3402.390438247012 MHz...\n"
     ]
    },
    {
     "name": "stderr",
     "output_type": "stream",
     "text": [
      "setting the output map dtype to [dtype('float32')]\n"
     ]
    },
    {
     "name": "stdout",
     "output_type": "stream",
     "text": [
      "Completed 3402.390438247012 MHz.\n",
      "Processing 3418.3266932270917 MHz...\n"
     ]
    },
    {
     "name": "stderr",
     "output_type": "stream",
     "text": [
      "setting the output map dtype to [dtype('float32')]\n"
     ]
    },
    {
     "name": "stdout",
     "output_type": "stream",
     "text": [
      "Completed 3418.3266932270917 MHz.\n",
      "Processing 3434.2629482071716 MHz...\n"
     ]
    },
    {
     "name": "stderr",
     "output_type": "stream",
     "text": [
      "setting the output map dtype to [dtype('float32')]\n"
     ]
    },
    {
     "name": "stdout",
     "output_type": "stream",
     "text": [
      "Completed 3434.2629482071716 MHz.\n",
      "Processing 3450.199203187251 MHz...\n"
     ]
    },
    {
     "name": "stderr",
     "output_type": "stream",
     "text": [
      "setting the output map dtype to [dtype('float32')]\n"
     ]
    },
    {
     "name": "stdout",
     "output_type": "stream",
     "text": [
      "Completed 3450.199203187251 MHz.\n",
      "Processing 3466.1354581673304 MHz...\n"
     ]
    },
    {
     "name": "stderr",
     "output_type": "stream",
     "text": [
      "setting the output map dtype to [dtype('float32')]\n"
     ]
    },
    {
     "name": "stdout",
     "output_type": "stream",
     "text": [
      "Completed 3466.1354581673304 MHz.\n",
      "Processing 3482.0717131474103 MHz...\n"
     ]
    },
    {
     "name": "stderr",
     "output_type": "stream",
     "text": [
      "setting the output map dtype to [dtype('float32')]\n"
     ]
    },
    {
     "name": "stdout",
     "output_type": "stream",
     "text": [
      "Completed 3482.0717131474103 MHz.\n",
      "Processing 3498.00796812749 MHz...\n"
     ]
    },
    {
     "name": "stderr",
     "output_type": "stream",
     "text": [
      "setting the output map dtype to [dtype('float32')]\n"
     ]
    },
    {
     "name": "stdout",
     "output_type": "stream",
     "text": [
      "Completed 3498.00796812749 MHz.\n",
      "Processing 3513.94422310757 MHz...\n"
     ]
    },
    {
     "name": "stderr",
     "output_type": "stream",
     "text": [
      "setting the output map dtype to [dtype('float32')]\n"
     ]
    },
    {
     "name": "stdout",
     "output_type": "stream",
     "text": [
      "Completed 3513.94422310757 MHz.\n",
      "Processing 3529.8804780876494 MHz...\n"
     ]
    },
    {
     "name": "stderr",
     "output_type": "stream",
     "text": [
      "setting the output map dtype to [dtype('float32')]\n"
     ]
    },
    {
     "name": "stdout",
     "output_type": "stream",
     "text": [
      "Completed 3529.8804780876494 MHz.\n",
      "Processing 3545.816733067729 MHz...\n"
     ]
    },
    {
     "name": "stderr",
     "output_type": "stream",
     "text": [
      "setting the output map dtype to [dtype('float32')]\n"
     ]
    },
    {
     "name": "stdout",
     "output_type": "stream",
     "text": [
      "Completed 3545.816733067729 MHz.\n",
      "Processing 3561.7529880478087 MHz...\n"
     ]
    },
    {
     "name": "stderr",
     "output_type": "stream",
     "text": [
      "setting the output map dtype to [dtype('float32')]\n"
     ]
    },
    {
     "name": "stdout",
     "output_type": "stream",
     "text": [
      "Completed 3561.7529880478087 MHz.\n",
      "Processing 3577.6892430278886 MHz...\n"
     ]
    },
    {
     "name": "stderr",
     "output_type": "stream",
     "text": [
      "setting the output map dtype to [dtype('float32')]\n"
     ]
    },
    {
     "name": "stdout",
     "output_type": "stream",
     "text": [
      "Completed 3577.6892430278886 MHz.\n",
      "Processing 3593.6254980079684 MHz...\n"
     ]
    },
    {
     "name": "stderr",
     "output_type": "stream",
     "text": [
      "setting the output map dtype to [dtype('float32')]\n"
     ]
    },
    {
     "name": "stdout",
     "output_type": "stream",
     "text": [
      "Completed 3593.6254980079684 MHz.\n",
      "Processing 3609.561752988048 MHz...\n"
     ]
    },
    {
     "name": "stderr",
     "output_type": "stream",
     "text": [
      "setting the output map dtype to [dtype('float32')]\n"
     ]
    },
    {
     "name": "stdout",
     "output_type": "stream",
     "text": [
      "Completed 3609.561752988048 MHz.\n",
      "Processing 3625.4980079681272 MHz...\n"
     ]
    },
    {
     "name": "stderr",
     "output_type": "stream",
     "text": [
      "setting the output map dtype to [dtype('float32')]\n"
     ]
    },
    {
     "name": "stdout",
     "output_type": "stream",
     "text": [
      "Completed 3625.4980079681272 MHz.\n",
      "Processing 3641.434262948207 MHz...\n"
     ]
    },
    {
     "name": "stderr",
     "output_type": "stream",
     "text": [
      "setting the output map dtype to [dtype('float32')]\n"
     ]
    },
    {
     "name": "stdout",
     "output_type": "stream",
     "text": [
      "Completed 3641.434262948207 MHz.\n",
      "Processing 3657.370517928287 MHz...\n"
     ]
    },
    {
     "name": "stderr",
     "output_type": "stream",
     "text": [
      "setting the output map dtype to [dtype('float32')]\n"
     ]
    },
    {
     "name": "stdout",
     "output_type": "stream",
     "text": [
      "Completed 3657.370517928287 MHz.\n",
      "Processing 3673.306772908367 MHz...\n"
     ]
    },
    {
     "name": "stderr",
     "output_type": "stream",
     "text": [
      "setting the output map dtype to [dtype('float32')]\n"
     ]
    },
    {
     "name": "stdout",
     "output_type": "stream",
     "text": [
      "Completed 3673.306772908367 MHz.\n",
      "Processing 3689.2430278884462 MHz...\n"
     ]
    },
    {
     "name": "stderr",
     "output_type": "stream",
     "text": [
      "setting the output map dtype to [dtype('float32')]\n"
     ]
    },
    {
     "name": "stdout",
     "output_type": "stream",
     "text": [
      "Completed 3689.2430278884462 MHz.\n",
      "Processing 3705.1792828685257 MHz...\n"
     ]
    },
    {
     "name": "stderr",
     "output_type": "stream",
     "text": [
      "setting the output map dtype to [dtype('float32')]\n"
     ]
    },
    {
     "name": "stdout",
     "output_type": "stream",
     "text": [
      "Completed 3705.1792828685257 MHz.\n",
      "Processing 3721.1155378486055 MHz...\n"
     ]
    },
    {
     "name": "stderr",
     "output_type": "stream",
     "text": [
      "setting the output map dtype to [dtype('float32')]\n"
     ]
    },
    {
     "name": "stdout",
     "output_type": "stream",
     "text": [
      "Completed 3721.1155378486055 MHz.\n",
      "Processing 3737.0517928286854 MHz...\n"
     ]
    },
    {
     "name": "stderr",
     "output_type": "stream",
     "text": [
      "setting the output map dtype to [dtype('float32')]\n"
     ]
    },
    {
     "name": "stdout",
     "output_type": "stream",
     "text": [
      "Completed 3737.0517928286854 MHz.\n",
      "Processing 3752.9880478087653 MHz...\n"
     ]
    },
    {
     "name": "stderr",
     "output_type": "stream",
     "text": [
      "setting the output map dtype to [dtype('float32')]\n"
     ]
    },
    {
     "name": "stdout",
     "output_type": "stream",
     "text": [
      "Completed 3752.9880478087653 MHz.\n",
      "Processing 3768.9243027888447 MHz...\n"
     ]
    },
    {
     "name": "stderr",
     "output_type": "stream",
     "text": [
      "setting the output map dtype to [dtype('float32')]\n"
     ]
    },
    {
     "name": "stdout",
     "output_type": "stream",
     "text": [
      "Completed 3768.9243027888447 MHz.\n",
      "Processing 3784.860557768924 MHz...\n"
     ]
    },
    {
     "name": "stderr",
     "output_type": "stream",
     "text": [
      "setting the output map dtype to [dtype('float32')]\n"
     ]
    },
    {
     "name": "stdout",
     "output_type": "stream",
     "text": [
      "Completed 3784.860557768924 MHz.\n",
      "Processing 3800.796812749004 MHz...\n"
     ]
    },
    {
     "name": "stderr",
     "output_type": "stream",
     "text": [
      "setting the output map dtype to [dtype('float32')]\n"
     ]
    },
    {
     "name": "stdout",
     "output_type": "stream",
     "text": [
      "Completed 3800.796812749004 MHz.\n",
      "Processing 3816.733067729084 MHz...\n"
     ]
    },
    {
     "name": "stderr",
     "output_type": "stream",
     "text": [
      "setting the output map dtype to [dtype('float32')]\n"
     ]
    },
    {
     "name": "stdout",
     "output_type": "stream",
     "text": [
      "Completed 3816.733067729084 MHz.\n",
      "Processing 3832.6693227091637 MHz...\n"
     ]
    },
    {
     "name": "stderr",
     "output_type": "stream",
     "text": [
      "setting the output map dtype to [dtype('float32')]\n"
     ]
    },
    {
     "name": "stdout",
     "output_type": "stream",
     "text": [
      "Completed 3832.6693227091637 MHz.\n",
      "Processing 3848.605577689243 MHz...\n"
     ]
    },
    {
     "name": "stderr",
     "output_type": "stream",
     "text": [
      "setting the output map dtype to [dtype('float32')]\n"
     ]
    },
    {
     "name": "stdout",
     "output_type": "stream",
     "text": [
      "Completed 3848.605577689243 MHz.\n",
      "Processing 3864.5418326693225 MHz...\n"
     ]
    },
    {
     "name": "stderr",
     "output_type": "stream",
     "text": [
      "setting the output map dtype to [dtype('float32')]\n"
     ]
    },
    {
     "name": "stdout",
     "output_type": "stream",
     "text": [
      "Completed 3864.5418326693225 MHz.\n",
      "Processing 3880.4780876494024 MHz...\n"
     ]
    },
    {
     "name": "stderr",
     "output_type": "stream",
     "text": [
      "setting the output map dtype to [dtype('float32')]\n"
     ]
    },
    {
     "name": "stdout",
     "output_type": "stream",
     "text": [
      "Completed 3880.4780876494024 MHz.\n",
      "Processing 3896.4143426294822 MHz...\n"
     ]
    },
    {
     "name": "stderr",
     "output_type": "stream",
     "text": [
      "setting the output map dtype to [dtype('float32')]\n"
     ]
    },
    {
     "name": "stdout",
     "output_type": "stream",
     "text": [
      "Completed 3896.4143426294822 MHz.\n",
      "Processing 3912.3505976095616 MHz...\n"
     ]
    },
    {
     "name": "stderr",
     "output_type": "stream",
     "text": [
      "setting the output map dtype to [dtype('float32')]\n"
     ]
    },
    {
     "name": "stdout",
     "output_type": "stream",
     "text": [
      "Completed 3912.3505976095616 MHz.\n",
      "Processing 3928.2868525896415 MHz...\n"
     ]
    },
    {
     "name": "stderr",
     "output_type": "stream",
     "text": [
      "setting the output map dtype to [dtype('float32')]\n"
     ]
    },
    {
     "name": "stdout",
     "output_type": "stream",
     "text": [
      "Completed 3928.2868525896415 MHz.\n",
      "Processing 3944.223107569721 MHz...\n"
     ]
    },
    {
     "name": "stderr",
     "output_type": "stream",
     "text": [
      "setting the output map dtype to [dtype('float32')]\n"
     ]
    },
    {
     "name": "stdout",
     "output_type": "stream",
     "text": [
      "Completed 3944.223107569721 MHz.\n",
      "Processing 3960.159362549801 MHz...\n"
     ]
    },
    {
     "name": "stderr",
     "output_type": "stream",
     "text": [
      "setting the output map dtype to [dtype('float32')]\n"
     ]
    },
    {
     "name": "stdout",
     "output_type": "stream",
     "text": [
      "Completed 3960.159362549801 MHz.\n",
      "Processing 3976.0956175298807 MHz...\n"
     ]
    },
    {
     "name": "stderr",
     "output_type": "stream",
     "text": [
      "setting the output map dtype to [dtype('float32')]\n"
     ]
    },
    {
     "name": "stdout",
     "output_type": "stream",
     "text": [
      "Completed 3976.0956175298807 MHz.\n",
      "Processing 3992.03187250996 MHz...\n"
     ]
    },
    {
     "name": "stderr",
     "output_type": "stream",
     "text": [
      "setting the output map dtype to [dtype('float32')]\n"
     ]
    },
    {
     "name": "stdout",
     "output_type": "stream",
     "text": [
      "Completed 3992.03187250996 MHz.\n",
      "Processing 4007.96812749004 MHz...\n"
     ]
    },
    {
     "name": "stderr",
     "output_type": "stream",
     "text": [
      "setting the output map dtype to [dtype('float32')]\n"
     ]
    },
    {
     "name": "stdout",
     "output_type": "stream",
     "text": [
      "Completed 4007.96812749004 MHz.\n",
      "Processing 4023.9043824701193 MHz...\n"
     ]
    },
    {
     "name": "stderr",
     "output_type": "stream",
     "text": [
      "setting the output map dtype to [dtype('float32')]\n"
     ]
    },
    {
     "name": "stdout",
     "output_type": "stream",
     "text": [
      "Completed 4023.9043824701193 MHz.\n",
      "Processing 4039.840637450199 MHz...\n"
     ]
    },
    {
     "name": "stderr",
     "output_type": "stream",
     "text": [
      "setting the output map dtype to [dtype('float32')]\n"
     ]
    },
    {
     "name": "stdout",
     "output_type": "stream",
     "text": [
      "Completed 4039.840637450199 MHz.\n",
      "Processing 4055.776892430279 MHz...\n"
     ]
    },
    {
     "name": "stderr",
     "output_type": "stream",
     "text": [
      "setting the output map dtype to [dtype('float32')]\n"
     ]
    },
    {
     "name": "stdout",
     "output_type": "stream",
     "text": [
      "Completed 4055.776892430279 MHz.\n",
      "Processing 4071.7131474103585 MHz...\n"
     ]
    },
    {
     "name": "stderr",
     "output_type": "stream",
     "text": [
      "setting the output map dtype to [dtype('float32')]\n"
     ]
    },
    {
     "name": "stdout",
     "output_type": "stream",
     "text": [
      "Completed 4071.7131474103585 MHz.\n",
      "Processing 4087.6494023904384 MHz...\n"
     ]
    },
    {
     "name": "stderr",
     "output_type": "stream",
     "text": [
      "setting the output map dtype to [dtype('float32')]\n"
     ]
    },
    {
     "name": "stdout",
     "output_type": "stream",
     "text": [
      "Completed 4087.6494023904384 MHz.\n",
      "Processing 4103.585657370518 MHz...\n"
     ]
    },
    {
     "name": "stderr",
     "output_type": "stream",
     "text": [
      "setting the output map dtype to [dtype('float32')]\n"
     ]
    },
    {
     "name": "stdout",
     "output_type": "stream",
     "text": [
      "Completed 4103.585657370518 MHz.\n",
      "Processing 4119.521912350598 MHz...\n"
     ]
    },
    {
     "name": "stderr",
     "output_type": "stream",
     "text": [
      "setting the output map dtype to [dtype('float32')]\n"
     ]
    },
    {
     "name": "stdout",
     "output_type": "stream",
     "text": [
      "Completed 4119.521912350598 MHz.\n",
      "Processing 4135.4581673306775 MHz...\n"
     ]
    },
    {
     "name": "stderr",
     "output_type": "stream",
     "text": [
      "setting the output map dtype to [dtype('float32')]\n"
     ]
    },
    {
     "name": "stdout",
     "output_type": "stream",
     "text": [
      "Completed 4135.4581673306775 MHz.\n",
      "Processing 4151.394422310757 MHz...\n"
     ]
    },
    {
     "name": "stderr",
     "output_type": "stream",
     "text": [
      "setting the output map dtype to [dtype('float32')]\n"
     ]
    },
    {
     "name": "stdout",
     "output_type": "stream",
     "text": [
      "Completed 4151.394422310757 MHz.\n",
      "Processing 4167.330677290836 MHz...\n"
     ]
    },
    {
     "name": "stderr",
     "output_type": "stream",
     "text": [
      "setting the output map dtype to [dtype('float32')]\n"
     ]
    },
    {
     "name": "stdout",
     "output_type": "stream",
     "text": [
      "Completed 4167.330677290836 MHz.\n",
      "Processing 4183.266932270916 MHz...\n"
     ]
    },
    {
     "name": "stderr",
     "output_type": "stream",
     "text": [
      "setting the output map dtype to [dtype('float32')]\n"
     ]
    },
    {
     "name": "stdout",
     "output_type": "stream",
     "text": [
      "Completed 4183.266932270916 MHz.\n",
      "Processing 4199.203187250996 MHz...\n"
     ]
    },
    {
     "name": "stderr",
     "output_type": "stream",
     "text": [
      "setting the output map dtype to [dtype('float32')]\n"
     ]
    },
    {
     "name": "stdout",
     "output_type": "stream",
     "text": [
      "Completed 4199.203187250996 MHz.\n",
      "Processing 4215.139442231076 MHz...\n"
     ]
    },
    {
     "name": "stderr",
     "output_type": "stream",
     "text": [
      "setting the output map dtype to [dtype('float32')]\n"
     ]
    },
    {
     "name": "stdout",
     "output_type": "stream",
     "text": [
      "Completed 4215.139442231076 MHz.\n",
      "Processing 4231.075697211156 MHz...\n"
     ]
    },
    {
     "name": "stderr",
     "output_type": "stream",
     "text": [
      "setting the output map dtype to [dtype('float32')]\n"
     ]
    },
    {
     "name": "stdout",
     "output_type": "stream",
     "text": [
      "Completed 4231.075697211156 MHz.\n",
      "Processing 4247.011952191235 MHz...\n"
     ]
    },
    {
     "name": "stderr",
     "output_type": "stream",
     "text": [
      "setting the output map dtype to [dtype('float32')]\n"
     ]
    },
    {
     "name": "stdout",
     "output_type": "stream",
     "text": [
      "Completed 4247.011952191235 MHz.\n",
      "Processing 4262.948207171315 MHz...\n"
     ]
    },
    {
     "name": "stderr",
     "output_type": "stream",
     "text": [
      "setting the output map dtype to [dtype('float32')]\n"
     ]
    },
    {
     "name": "stdout",
     "output_type": "stream",
     "text": [
      "Completed 4262.948207171315 MHz.\n",
      "Processing 4278.8844621513945 MHz...\n"
     ]
    },
    {
     "name": "stderr",
     "output_type": "stream",
     "text": [
      "setting the output map dtype to [dtype('float32')]\n"
     ]
    },
    {
     "name": "stdout",
     "output_type": "stream",
     "text": [
      "Completed 4278.8844621513945 MHz.\n",
      "Processing 4294.820717131474 MHz...\n"
     ]
    },
    {
     "name": "stderr",
     "output_type": "stream",
     "text": [
      "setting the output map dtype to [dtype('float32')]\n"
     ]
    },
    {
     "name": "stdout",
     "output_type": "stream",
     "text": [
      "Completed 4294.820717131474 MHz.\n",
      "Processing 4310.756972111554 MHz...\n"
     ]
    },
    {
     "name": "stderr",
     "output_type": "stream",
     "text": [
      "setting the output map dtype to [dtype('float32')]\n"
     ]
    },
    {
     "name": "stdout",
     "output_type": "stream",
     "text": [
      "Completed 4310.756972111554 MHz.\n",
      "Processing 4326.693227091633 MHz...\n"
     ]
    },
    {
     "name": "stderr",
     "output_type": "stream",
     "text": [
      "setting the output map dtype to [dtype('float32')]\n"
     ]
    },
    {
     "name": "stdout",
     "output_type": "stream",
     "text": [
      "Completed 4326.693227091633 MHz.\n",
      "Processing 4342.629482071713 MHz...\n"
     ]
    },
    {
     "name": "stderr",
     "output_type": "stream",
     "text": [
      "setting the output map dtype to [dtype('float32')]\n"
     ]
    },
    {
     "name": "stdout",
     "output_type": "stream",
     "text": [
      "Completed 4342.629482071713 MHz.\n",
      "Processing 4358.565737051793 MHz...\n"
     ]
    },
    {
     "name": "stderr",
     "output_type": "stream",
     "text": [
      "setting the output map dtype to [dtype('float32')]\n"
     ]
    },
    {
     "name": "stdout",
     "output_type": "stream",
     "text": [
      "Completed 4358.565737051793 MHz.\n",
      "Processing 4374.501992031872 MHz...\n"
     ]
    },
    {
     "name": "stderr",
     "output_type": "stream",
     "text": [
      "setting the output map dtype to [dtype('float32')]\n"
     ]
    },
    {
     "name": "stdout",
     "output_type": "stream",
     "text": [
      "Completed 4374.501992031872 MHz.\n",
      "Processing 4390.438247011953 MHz...\n"
     ]
    },
    {
     "name": "stderr",
     "output_type": "stream",
     "text": [
      "setting the output map dtype to [dtype('float32')]\n"
     ]
    },
    {
     "name": "stdout",
     "output_type": "stream",
     "text": [
      "Completed 4390.438247011953 MHz.\n",
      "Processing 4406.374501992032 MHz...\n"
     ]
    },
    {
     "name": "stderr",
     "output_type": "stream",
     "text": [
      "setting the output map dtype to [dtype('float32')]\n"
     ]
    },
    {
     "name": "stdout",
     "output_type": "stream",
     "text": [
      "Completed 4406.374501992032 MHz.\n",
      "Processing 4422.310756972111 MHz...\n"
     ]
    },
    {
     "name": "stderr",
     "output_type": "stream",
     "text": [
      "setting the output map dtype to [dtype('float32')]\n"
     ]
    },
    {
     "name": "stdout",
     "output_type": "stream",
     "text": [
      "Completed 4422.310756972111 MHz.\n",
      "Processing 4438.247011952191 MHz...\n"
     ]
    },
    {
     "name": "stderr",
     "output_type": "stream",
     "text": [
      "setting the output map dtype to [dtype('float32')]\n"
     ]
    },
    {
     "name": "stdout",
     "output_type": "stream",
     "text": [
      "Completed 4438.247011952191 MHz.\n",
      "Processing 4454.18326693227 MHz...\n"
     ]
    },
    {
     "name": "stderr",
     "output_type": "stream",
     "text": [
      "setting the output map dtype to [dtype('float32')]\n"
     ]
    },
    {
     "name": "stdout",
     "output_type": "stream",
     "text": [
      "Completed 4454.18326693227 MHz.\n",
      "Processing 4470.119521912351 MHz...\n"
     ]
    },
    {
     "name": "stderr",
     "output_type": "stream",
     "text": [
      "setting the output map dtype to [dtype('float32')]\n"
     ]
    },
    {
     "name": "stdout",
     "output_type": "stream",
     "text": [
      "Completed 4470.119521912351 MHz.\n",
      "Processing 4486.05577689243 MHz...\n"
     ]
    },
    {
     "name": "stderr",
     "output_type": "stream",
     "text": [
      "setting the output map dtype to [dtype('float32')]\n"
     ]
    },
    {
     "name": "stdout",
     "output_type": "stream",
     "text": [
      "Completed 4486.05577689243 MHz.\n",
      "Processing 4501.99203187251 MHz...\n"
     ]
    },
    {
     "name": "stderr",
     "output_type": "stream",
     "text": [
      "setting the output map dtype to [dtype('float32')]\n"
     ]
    },
    {
     "name": "stdout",
     "output_type": "stream",
     "text": [
      "Completed 4501.99203187251 MHz.\n",
      "Processing 4517.92828685259 MHz...\n"
     ]
    },
    {
     "name": "stderr",
     "output_type": "stream",
     "text": [
      "setting the output map dtype to [dtype('float32')]\n"
     ]
    },
    {
     "name": "stdout",
     "output_type": "stream",
     "text": [
      "Completed 4517.92828685259 MHz.\n",
      "Processing 4533.864541832669 MHz...\n"
     ]
    },
    {
     "name": "stderr",
     "output_type": "stream",
     "text": [
      "setting the output map dtype to [dtype('float32')]\n"
     ]
    },
    {
     "name": "stdout",
     "output_type": "stream",
     "text": [
      "Completed 4533.864541832669 MHz.\n",
      "Processing 4549.8007968127495 MHz...\n"
     ]
    },
    {
     "name": "stderr",
     "output_type": "stream",
     "text": [
      "setting the output map dtype to [dtype('float32')]\n"
     ]
    },
    {
     "name": "stdout",
     "output_type": "stream",
     "text": [
      "Completed 4549.8007968127495 MHz.\n",
      "Processing 4565.737051792828 MHz...\n"
     ]
    },
    {
     "name": "stderr",
     "output_type": "stream",
     "text": [
      "setting the output map dtype to [dtype('float32')]\n"
     ]
    },
    {
     "name": "stdout",
     "output_type": "stream",
     "text": [
      "Completed 4565.737051792828 MHz.\n",
      "Processing 4581.673306772908 MHz...\n"
     ]
    },
    {
     "name": "stderr",
     "output_type": "stream",
     "text": [
      "setting the output map dtype to [dtype('float32')]\n"
     ]
    },
    {
     "name": "stdout",
     "output_type": "stream",
     "text": [
      "Completed 4581.673306772908 MHz.\n",
      "Processing 4597.609561752988 MHz...\n"
     ]
    },
    {
     "name": "stderr",
     "output_type": "stream",
     "text": [
      "setting the output map dtype to [dtype('float32')]\n"
     ]
    },
    {
     "name": "stdout",
     "output_type": "stream",
     "text": [
      "Completed 4597.609561752988 MHz.\n",
      "Processing 4613.545816733067 MHz...\n"
     ]
    },
    {
     "name": "stderr",
     "output_type": "stream",
     "text": [
      "setting the output map dtype to [dtype('float32')]\n"
     ]
    },
    {
     "name": "stdout",
     "output_type": "stream",
     "text": [
      "Completed 4613.545816733067 MHz.\n",
      "Processing 4629.482071713148 MHz...\n"
     ]
    },
    {
     "name": "stderr",
     "output_type": "stream",
     "text": [
      "setting the output map dtype to [dtype('float32')]\n"
     ]
    },
    {
     "name": "stdout",
     "output_type": "stream",
     "text": [
      "Completed 4629.482071713148 MHz.\n",
      "Processing 4645.418326693227 MHz...\n"
     ]
    },
    {
     "name": "stderr",
     "output_type": "stream",
     "text": [
      "setting the output map dtype to [dtype('float32')]\n"
     ]
    },
    {
     "name": "stdout",
     "output_type": "stream",
     "text": [
      "Completed 4645.418326693227 MHz.\n",
      "Processing 4661.354581673307 MHz...\n"
     ]
    },
    {
     "name": "stderr",
     "output_type": "stream",
     "text": [
      "setting the output map dtype to [dtype('float32')]\n"
     ]
    },
    {
     "name": "stdout",
     "output_type": "stream",
     "text": [
      "Completed 4661.354581673307 MHz.\n",
      "Processing 4677.290836653387 MHz...\n"
     ]
    },
    {
     "name": "stderr",
     "output_type": "stream",
     "text": [
      "setting the output map dtype to [dtype('float32')]\n"
     ]
    },
    {
     "name": "stdout",
     "output_type": "stream",
     "text": [
      "Completed 4677.290836653387 MHz.\n",
      "Processing 4693.2270916334655 MHz...\n"
     ]
    },
    {
     "name": "stderr",
     "output_type": "stream",
     "text": [
      "setting the output map dtype to [dtype('float32')]\n"
     ]
    },
    {
     "name": "stdout",
     "output_type": "stream",
     "text": [
      "Completed 4693.2270916334655 MHz.\n",
      "Processing 4709.163346613546 MHz...\n"
     ]
    },
    {
     "name": "stderr",
     "output_type": "stream",
     "text": [
      "setting the output map dtype to [dtype('float32')]\n"
     ]
    },
    {
     "name": "stdout",
     "output_type": "stream",
     "text": [
      "Completed 4709.163346613546 MHz.\n",
      "Processing 4725.099601593625 MHz...\n"
     ]
    },
    {
     "name": "stderr",
     "output_type": "stream",
     "text": [
      "setting the output map dtype to [dtype('float32')]\n"
     ]
    },
    {
     "name": "stdout",
     "output_type": "stream",
     "text": [
      "Completed 4725.099601593625 MHz.\n",
      "Processing 4741.035856573705 MHz...\n"
     ]
    },
    {
     "name": "stderr",
     "output_type": "stream",
     "text": [
      "setting the output map dtype to [dtype('float32')]\n"
     ]
    },
    {
     "name": "stdout",
     "output_type": "stream",
     "text": [
      "Completed 4741.035856573705 MHz.\n",
      "Processing 4756.972111553785 MHz...\n"
     ]
    },
    {
     "name": "stderr",
     "output_type": "stream",
     "text": [
      "setting the output map dtype to [dtype('float32')]\n"
     ]
    },
    {
     "name": "stdout",
     "output_type": "stream",
     "text": [
      "Completed 4756.972111553785 MHz.\n",
      "Processing 4772.908366533864 MHz...\n"
     ]
    },
    {
     "name": "stderr",
     "output_type": "stream",
     "text": [
      "setting the output map dtype to [dtype('float32')]\n"
     ]
    },
    {
     "name": "stdout",
     "output_type": "stream",
     "text": [
      "Completed 4772.908366533864 MHz.\n",
      "Processing 4788.844621513945 MHz...\n"
     ]
    },
    {
     "name": "stderr",
     "output_type": "stream",
     "text": [
      "setting the output map dtype to [dtype('float32')]\n"
     ]
    },
    {
     "name": "stdout",
     "output_type": "stream",
     "text": [
      "Completed 4788.844621513945 MHz.\n",
      "Processing 4804.780876494024 MHz...\n"
     ]
    },
    {
     "name": "stderr",
     "output_type": "stream",
     "text": [
      "setting the output map dtype to [dtype('float32')]\n"
     ]
    },
    {
     "name": "stdout",
     "output_type": "stream",
     "text": [
      "Completed 4804.780876494024 MHz.\n",
      "Processing 4820.717131474104 MHz...\n"
     ]
    },
    {
     "name": "stderr",
     "output_type": "stream",
     "text": [
      "setting the output map dtype to [dtype('float32')]\n"
     ]
    },
    {
     "name": "stdout",
     "output_type": "stream",
     "text": [
      "Completed 4820.717131474104 MHz.\n",
      "Processing 4836.653386454183 MHz...\n"
     ]
    },
    {
     "name": "stderr",
     "output_type": "stream",
     "text": [
      "setting the output map dtype to [dtype('float32')]\n"
     ]
    },
    {
     "name": "stdout",
     "output_type": "stream",
     "text": [
      "Completed 4836.653386454183 MHz.\n",
      "Processing 4852.589641434262 MHz...\n"
     ]
    },
    {
     "name": "stderr",
     "output_type": "stream",
     "text": [
      "setting the output map dtype to [dtype('float32')]\n"
     ]
    },
    {
     "name": "stdout",
     "output_type": "stream",
     "text": [
      "Completed 4852.589641434262 MHz.\n",
      "Processing 4868.525896414343 MHz...\n"
     ]
    },
    {
     "name": "stderr",
     "output_type": "stream",
     "text": [
      "setting the output map dtype to [dtype('float32')]\n"
     ]
    },
    {
     "name": "stdout",
     "output_type": "stream",
     "text": [
      "Completed 4868.525896414343 MHz.\n",
      "Processing 4884.462151394422 MHz...\n"
     ]
    },
    {
     "name": "stderr",
     "output_type": "stream",
     "text": [
      "setting the output map dtype to [dtype('float32')]\n"
     ]
    },
    {
     "name": "stdout",
     "output_type": "stream",
     "text": [
      "Completed 4884.462151394422 MHz.\n",
      "Processing 4900.398406374502 MHz...\n"
     ]
    },
    {
     "name": "stderr",
     "output_type": "stream",
     "text": [
      "setting the output map dtype to [dtype('float32')]\n"
     ]
    },
    {
     "name": "stdout",
     "output_type": "stream",
     "text": [
      "Completed 4900.398406374502 MHz.\n",
      "Processing 4916.334661354582 MHz...\n"
     ]
    },
    {
     "name": "stderr",
     "output_type": "stream",
     "text": [
      "setting the output map dtype to [dtype('float32')]\n"
     ]
    },
    {
     "name": "stdout",
     "output_type": "stream",
     "text": [
      "Completed 4916.334661354582 MHz.\n",
      "Processing 4932.270916334661 MHz...\n"
     ]
    },
    {
     "name": "stderr",
     "output_type": "stream",
     "text": [
      "setting the output map dtype to [dtype('float32')]\n"
     ]
    },
    {
     "name": "stdout",
     "output_type": "stream",
     "text": [
      "Completed 4932.270916334661 MHz.\n",
      "Processing 4948.207171314742 MHz...\n"
     ]
    },
    {
     "name": "stderr",
     "output_type": "stream",
     "text": [
      "setting the output map dtype to [dtype('float32')]\n"
     ]
    },
    {
     "name": "stdout",
     "output_type": "stream",
     "text": [
      "Completed 4948.207171314742 MHz.\n",
      "Processing 4964.1434262948205 MHz...\n"
     ]
    },
    {
     "name": "stderr",
     "output_type": "stream",
     "text": [
      "setting the output map dtype to [dtype('float32')]\n"
     ]
    },
    {
     "name": "stdout",
     "output_type": "stream",
     "text": [
      "Completed 4964.1434262948205 MHz.\n",
      "Processing 4980.0796812749 MHz...\n"
     ]
    },
    {
     "name": "stderr",
     "output_type": "stream",
     "text": [
      "setting the output map dtype to [dtype('float32')]\n"
     ]
    },
    {
     "name": "stdout",
     "output_type": "stream",
     "text": [
      "Completed 4980.0796812749 MHz.\n",
      "Processing 4996.01593625498 MHz...\n"
     ]
    },
    {
     "name": "stderr",
     "output_type": "stream",
     "text": [
      "setting the output map dtype to [dtype('float32')]\n"
     ]
    },
    {
     "name": "stdout",
     "output_type": "stream",
     "text": [
      "Completed 4996.01593625498 MHz.\n",
      "Processing 5011.952191235059 MHz...\n"
     ]
    },
    {
     "name": "stderr",
     "output_type": "stream",
     "text": [
      "setting the output map dtype to [dtype('float32')]\n"
     ]
    },
    {
     "name": "stdout",
     "output_type": "stream",
     "text": [
      "Completed 5011.952191235059 MHz.\n",
      "Processing 5027.88844621514 MHz...\n"
     ]
    },
    {
     "name": "stderr",
     "output_type": "stream",
     "text": [
      "setting the output map dtype to [dtype('float32')]\n"
     ]
    },
    {
     "name": "stdout",
     "output_type": "stream",
     "text": [
      "Completed 5027.88844621514 MHz.\n",
      "Processing 5043.824701195219 MHz...\n"
     ]
    },
    {
     "name": "stderr",
     "output_type": "stream",
     "text": [
      "setting the output map dtype to [dtype('float32')]\n"
     ]
    },
    {
     "name": "stdout",
     "output_type": "stream",
     "text": [
      "Completed 5043.824701195219 MHz.\n",
      "Processing 5059.760956175299 MHz...\n"
     ]
    },
    {
     "name": "stderr",
     "output_type": "stream",
     "text": [
      "setting the output map dtype to [dtype('float32')]\n"
     ]
    },
    {
     "name": "stdout",
     "output_type": "stream",
     "text": [
      "Completed 5059.760956175299 MHz.\n",
      "Processing 5075.697211155379 MHz...\n"
     ]
    },
    {
     "name": "stderr",
     "output_type": "stream",
     "text": [
      "setting the output map dtype to [dtype('float32')]\n"
     ]
    },
    {
     "name": "stdout",
     "output_type": "stream",
     "text": [
      "Completed 5075.697211155379 MHz.\n",
      "Processing 5091.633466135458 MHz...\n"
     ]
    },
    {
     "name": "stderr",
     "output_type": "stream",
     "text": [
      "setting the output map dtype to [dtype('float32')]\n"
     ]
    },
    {
     "name": "stdout",
     "output_type": "stream",
     "text": [
      "Completed 5091.633466135458 MHz.\n",
      "Processing 5107.569721115538 MHz...\n"
     ]
    },
    {
     "name": "stderr",
     "output_type": "stream",
     "text": [
      "setting the output map dtype to [dtype('float32')]\n"
     ]
    },
    {
     "name": "stdout",
     "output_type": "stream",
     "text": [
      "Completed 5107.569721115538 MHz.\n",
      "Processing 5123.505976095617 MHz...\n"
     ]
    },
    {
     "name": "stderr",
     "output_type": "stream",
     "text": [
      "setting the output map dtype to [dtype('float32')]\n"
     ]
    },
    {
     "name": "stdout",
     "output_type": "stream",
     "text": [
      "Completed 5123.505976095617 MHz.\n",
      "Processing 5139.442231075697 MHz...\n"
     ]
    },
    {
     "name": "stderr",
     "output_type": "stream",
     "text": [
      "setting the output map dtype to [dtype('float32')]\n"
     ]
    },
    {
     "name": "stdout",
     "output_type": "stream",
     "text": [
      "Completed 5139.442231075697 MHz.\n",
      "Processing 5155.378486055777 MHz...\n"
     ]
    },
    {
     "name": "stderr",
     "output_type": "stream",
     "text": [
      "setting the output map dtype to [dtype('float32')]\n"
     ]
    },
    {
     "name": "stdout",
     "output_type": "stream",
     "text": [
      "Completed 5155.378486055777 MHz.\n",
      "Processing 5171.314741035856 MHz...\n"
     ]
    },
    {
     "name": "stderr",
     "output_type": "stream",
     "text": [
      "setting the output map dtype to [dtype('float32')]\n"
     ]
    },
    {
     "name": "stdout",
     "output_type": "stream",
     "text": [
      "Completed 5171.314741035856 MHz.\n",
      "Processing 5187.250996015937 MHz...\n"
     ]
    },
    {
     "name": "stderr",
     "output_type": "stream",
     "text": [
      "setting the output map dtype to [dtype('float32')]\n"
     ]
    },
    {
     "name": "stdout",
     "output_type": "stream",
     "text": [
      "Completed 5187.250996015937 MHz.\n",
      "Processing 5203.187250996016 MHz...\n"
     ]
    },
    {
     "name": "stderr",
     "output_type": "stream",
     "text": [
      "setting the output map dtype to [dtype('float32')]\n"
     ]
    },
    {
     "name": "stdout",
     "output_type": "stream",
     "text": [
      "Completed 5203.187250996016 MHz.\n",
      "Processing 5219.123505976096 MHz...\n"
     ]
    },
    {
     "name": "stderr",
     "output_type": "stream",
     "text": [
      "setting the output map dtype to [dtype('float32')]\n"
     ]
    },
    {
     "name": "stdout",
     "output_type": "stream",
     "text": [
      "Completed 5219.123505976096 MHz.\n",
      "Processing 5235.0597609561755 MHz...\n"
     ]
    },
    {
     "name": "stderr",
     "output_type": "stream",
     "text": [
      "setting the output map dtype to [dtype('float32')]\n"
     ]
    },
    {
     "name": "stdout",
     "output_type": "stream",
     "text": [
      "Completed 5235.0597609561755 MHz.\n",
      "Processing 5250.9960159362545 MHz...\n"
     ]
    },
    {
     "name": "stderr",
     "output_type": "stream",
     "text": [
      "setting the output map dtype to [dtype('float32')]\n"
     ]
    },
    {
     "name": "stdout",
     "output_type": "stream",
     "text": [
      "Completed 5250.9960159362545 MHz.\n",
      "Processing 5266.932270916335 MHz...\n"
     ]
    },
    {
     "name": "stderr",
     "output_type": "stream",
     "text": [
      "setting the output map dtype to [dtype('float32')]\n"
     ]
    },
    {
     "name": "stdout",
     "output_type": "stream",
     "text": [
      "Completed 5266.932270916335 MHz.\n",
      "Processing 5282.868525896414 MHz...\n"
     ]
    },
    {
     "name": "stderr",
     "output_type": "stream",
     "text": [
      "setting the output map dtype to [dtype('float32')]\n"
     ]
    },
    {
     "name": "stdout",
     "output_type": "stream",
     "text": [
      "Completed 5282.868525896414 MHz.\n",
      "Processing 5298.804780876494 MHz...\n"
     ]
    },
    {
     "name": "stderr",
     "output_type": "stream",
     "text": [
      "setting the output map dtype to [dtype('float32')]\n"
     ]
    },
    {
     "name": "stdout",
     "output_type": "stream",
     "text": [
      "Completed 5298.804780876494 MHz.\n",
      "Processing 5314.741035856574 MHz...\n"
     ]
    },
    {
     "name": "stderr",
     "output_type": "stream",
     "text": [
      "setting the output map dtype to [dtype('float32')]\n"
     ]
    },
    {
     "name": "stdout",
     "output_type": "stream",
     "text": [
      "Completed 5314.741035856574 MHz.\n",
      "Processing 5330.677290836653 MHz...\n"
     ]
    },
    {
     "name": "stderr",
     "output_type": "stream",
     "text": [
      "setting the output map dtype to [dtype('float32')]\n"
     ]
    },
    {
     "name": "stdout",
     "output_type": "stream",
     "text": [
      "Completed 5330.677290836653 MHz.\n",
      "Processing 5346.613545816734 MHz...\n"
     ]
    },
    {
     "name": "stderr",
     "output_type": "stream",
     "text": [
      "setting the output map dtype to [dtype('float32')]\n"
     ]
    },
    {
     "name": "stdout",
     "output_type": "stream",
     "text": [
      "Completed 5346.613545816734 MHz.\n",
      "Processing 5362.549800796813 MHz...\n"
     ]
    },
    {
     "name": "stderr",
     "output_type": "stream",
     "text": [
      "setting the output map dtype to [dtype('float32')]\n"
     ]
    },
    {
     "name": "stdout",
     "output_type": "stream",
     "text": [
      "Completed 5362.549800796813 MHz.\n",
      "Processing 5378.4860557768925 MHz...\n"
     ]
    },
    {
     "name": "stderr",
     "output_type": "stream",
     "text": [
      "setting the output map dtype to [dtype('float32')]\n"
     ]
    },
    {
     "name": "stdout",
     "output_type": "stream",
     "text": [
      "Completed 5378.4860557768925 MHz.\n",
      "Processing 5394.422310756972 MHz...\n"
     ]
    },
    {
     "name": "stderr",
     "output_type": "stream",
     "text": [
      "setting the output map dtype to [dtype('float32')]\n"
     ]
    },
    {
     "name": "stdout",
     "output_type": "stream",
     "text": [
      "Completed 5394.422310756972 MHz.\n",
      "Processing 5410.358565737051 MHz...\n"
     ]
    },
    {
     "name": "stderr",
     "output_type": "stream",
     "text": [
      "setting the output map dtype to [dtype('float32')]\n"
     ]
    },
    {
     "name": "stdout",
     "output_type": "stream",
     "text": [
      "Completed 5410.358565737051 MHz.\n",
      "Processing 5426.294820717132 MHz...\n"
     ]
    },
    {
     "name": "stderr",
     "output_type": "stream",
     "text": [
      "setting the output map dtype to [dtype('float32')]\n"
     ]
    },
    {
     "name": "stdout",
     "output_type": "stream",
     "text": [
      "Completed 5426.294820717132 MHz.\n",
      "Processing 5442.231075697211 MHz...\n"
     ]
    },
    {
     "name": "stderr",
     "output_type": "stream",
     "text": [
      "setting the output map dtype to [dtype('float32')]\n"
     ]
    },
    {
     "name": "stdout",
     "output_type": "stream",
     "text": [
      "Completed 5442.231075697211 MHz.\n",
      "Processing 5458.167330677291 MHz...\n"
     ]
    },
    {
     "name": "stderr",
     "output_type": "stream",
     "text": [
      "setting the output map dtype to [dtype('float32')]\n"
     ]
    },
    {
     "name": "stdout",
     "output_type": "stream",
     "text": [
      "Completed 5458.167330677291 MHz.\n",
      "Processing 5474.103585657371 MHz...\n"
     ]
    },
    {
     "name": "stderr",
     "output_type": "stream",
     "text": [
      "setting the output map dtype to [dtype('float32')]\n"
     ]
    },
    {
     "name": "stdout",
     "output_type": "stream",
     "text": [
      "Completed 5474.103585657371 MHz.\n",
      "Processing 5490.03984063745 MHz...\n"
     ]
    },
    {
     "name": "stderr",
     "output_type": "stream",
     "text": [
      "setting the output map dtype to [dtype('float32')]\n"
     ]
    },
    {
     "name": "stdout",
     "output_type": "stream",
     "text": [
      "Completed 5490.03984063745 MHz.\n",
      "Processing 5505.9760956175305 MHz...\n"
     ]
    },
    {
     "name": "stderr",
     "output_type": "stream",
     "text": [
      "setting the output map dtype to [dtype('float32')]\n"
     ]
    },
    {
     "name": "stdout",
     "output_type": "stream",
     "text": [
      "Completed 5505.9760956175305 MHz.\n",
      "Processing 5521.9123505976095 MHz...\n"
     ]
    },
    {
     "name": "stderr",
     "output_type": "stream",
     "text": [
      "setting the output map dtype to [dtype('float32')]\n"
     ]
    },
    {
     "name": "stdout",
     "output_type": "stream",
     "text": [
      "Completed 5521.9123505976095 MHz.\n",
      "Processing 5537.848605577689 MHz...\n"
     ]
    },
    {
     "name": "stderr",
     "output_type": "stream",
     "text": [
      "setting the output map dtype to [dtype('float32')]\n"
     ]
    },
    {
     "name": "stdout",
     "output_type": "stream",
     "text": [
      "Completed 5537.848605577689 MHz.\n",
      "Processing 5553.784860557769 MHz...\n"
     ]
    },
    {
     "name": "stderr",
     "output_type": "stream",
     "text": [
      "setting the output map dtype to [dtype('float32')]\n"
     ]
    },
    {
     "name": "stdout",
     "output_type": "stream",
     "text": [
      "Completed 5553.784860557769 MHz.\n",
      "Processing 5569.721115537848 MHz...\n"
     ]
    },
    {
     "name": "stderr",
     "output_type": "stream",
     "text": [
      "setting the output map dtype to [dtype('float32')]\n"
     ]
    },
    {
     "name": "stdout",
     "output_type": "stream",
     "text": [
      "Completed 5569.721115537848 MHz.\n",
      "Processing 5585.657370517929 MHz...\n"
     ]
    },
    {
     "name": "stderr",
     "output_type": "stream",
     "text": [
      "setting the output map dtype to [dtype('float32')]\n"
     ]
    },
    {
     "name": "stdout",
     "output_type": "stream",
     "text": [
      "Completed 5585.657370517929 MHz.\n",
      "Processing 5601.593625498008 MHz...\n"
     ]
    },
    {
     "name": "stderr",
     "output_type": "stream",
     "text": [
      "setting the output map dtype to [dtype('float32')]\n"
     ]
    },
    {
     "name": "stdout",
     "output_type": "stream",
     "text": [
      "Completed 5601.593625498008 MHz.\n",
      "Processing 5617.529880478088 MHz...\n"
     ]
    },
    {
     "name": "stderr",
     "output_type": "stream",
     "text": [
      "setting the output map dtype to [dtype('float32')]\n"
     ]
    },
    {
     "name": "stdout",
     "output_type": "stream",
     "text": [
      "Completed 5617.529880478088 MHz.\n",
      "Processing 5633.466135458168 MHz...\n"
     ]
    },
    {
     "name": "stderr",
     "output_type": "stream",
     "text": [
      "setting the output map dtype to [dtype('float32')]\n"
     ]
    },
    {
     "name": "stdout",
     "output_type": "stream",
     "text": [
      "Completed 5633.466135458168 MHz.\n",
      "Processing 5649.402390438247 MHz...\n"
     ]
    },
    {
     "name": "stderr",
     "output_type": "stream",
     "text": [
      "setting the output map dtype to [dtype('float32')]\n"
     ]
    },
    {
     "name": "stdout",
     "output_type": "stream",
     "text": [
      "Completed 5649.402390438247 MHz.\n",
      "Processing 5665.338645418327 MHz...\n"
     ]
    },
    {
     "name": "stderr",
     "output_type": "stream",
     "text": [
      "setting the output map dtype to [dtype('float32')]\n"
     ]
    },
    {
     "name": "stdout",
     "output_type": "stream",
     "text": [
      "Completed 5665.338645418327 MHz.\n",
      "Processing 5681.274900398406 MHz...\n"
     ]
    },
    {
     "name": "stderr",
     "output_type": "stream",
     "text": [
      "setting the output map dtype to [dtype('float32')]\n"
     ]
    },
    {
     "name": "stdout",
     "output_type": "stream",
     "text": [
      "Completed 5681.274900398406 MHz.\n",
      "Processing 5697.211155378486 MHz...\n"
     ]
    },
    {
     "name": "stderr",
     "output_type": "stream",
     "text": [
      "setting the output map dtype to [dtype('float32')]\n"
     ]
    },
    {
     "name": "stdout",
     "output_type": "stream",
     "text": [
      "Completed 5697.211155378486 MHz.\n",
      "Processing 5713.147410358566 MHz...\n"
     ]
    },
    {
     "name": "stderr",
     "output_type": "stream",
     "text": [
      "setting the output map dtype to [dtype('float32')]\n"
     ]
    },
    {
     "name": "stdout",
     "output_type": "stream",
     "text": [
      "Completed 5713.147410358566 MHz.\n",
      "Processing 5729.083665338645 MHz...\n"
     ]
    },
    {
     "name": "stderr",
     "output_type": "stream",
     "text": [
      "setting the output map dtype to [dtype('float32')]\n"
     ]
    },
    {
     "name": "stdout",
     "output_type": "stream",
     "text": [
      "Completed 5729.083665338645 MHz.\n",
      "Processing 5745.019920318726 MHz...\n"
     ]
    },
    {
     "name": "stderr",
     "output_type": "stream",
     "text": [
      "setting the output map dtype to [dtype('float32')]\n"
     ]
    },
    {
     "name": "stdout",
     "output_type": "stream",
     "text": [
      "Completed 5745.019920318726 MHz.\n",
      "Processing 5760.956175298805 MHz...\n"
     ]
    },
    {
     "name": "stderr",
     "output_type": "stream",
     "text": [
      "setting the output map dtype to [dtype('float32')]\n"
     ]
    },
    {
     "name": "stdout",
     "output_type": "stream",
     "text": [
      "Completed 5760.956175298805 MHz.\n",
      "Processing 5776.892430278885 MHz...\n"
     ]
    },
    {
     "name": "stderr",
     "output_type": "stream",
     "text": [
      "setting the output map dtype to [dtype('float32')]\n"
     ]
    },
    {
     "name": "stdout",
     "output_type": "stream",
     "text": [
      "Completed 5776.892430278885 MHz.\n",
      "Processing 5792.8286852589645 MHz...\n"
     ]
    },
    {
     "name": "stderr",
     "output_type": "stream",
     "text": [
      "setting the output map dtype to [dtype('float32')]\n"
     ]
    },
    {
     "name": "stdout",
     "output_type": "stream",
     "text": [
      "Completed 5792.8286852589645 MHz.\n",
      "Processing 5808.764940239043 MHz...\n"
     ]
    },
    {
     "name": "stderr",
     "output_type": "stream",
     "text": [
      "setting the output map dtype to [dtype('float32')]\n"
     ]
    },
    {
     "name": "stdout",
     "output_type": "stream",
     "text": [
      "Completed 5808.764940239043 MHz.\n",
      "Processing 5824.701195219123 MHz...\n"
     ]
    },
    {
     "name": "stderr",
     "output_type": "stream",
     "text": [
      "setting the output map dtype to [dtype('float32')]\n"
     ]
    },
    {
     "name": "stdout",
     "output_type": "stream",
     "text": [
      "Completed 5824.701195219123 MHz.\n",
      "Processing 5840.637450199203 MHz...\n"
     ]
    },
    {
     "name": "stderr",
     "output_type": "stream",
     "text": [
      "setting the output map dtype to [dtype('float32')]\n"
     ]
    },
    {
     "name": "stdout",
     "output_type": "stream",
     "text": [
      "Completed 5840.637450199203 MHz.\n",
      "Processing 5856.573705179283 MHz...\n"
     ]
    },
    {
     "name": "stderr",
     "output_type": "stream",
     "text": [
      "setting the output map dtype to [dtype('float32')]\n"
     ]
    },
    {
     "name": "stdout",
     "output_type": "stream",
     "text": [
      "Completed 5856.573705179283 MHz.\n",
      "Processing 5872.509960159363 MHz...\n"
     ]
    },
    {
     "name": "stderr",
     "output_type": "stream",
     "text": [
      "setting the output map dtype to [dtype('float32')]\n"
     ]
    },
    {
     "name": "stdout",
     "output_type": "stream",
     "text": [
      "Completed 5872.509960159363 MHz.\n",
      "Processing 5888.446215139442 MHz...\n"
     ]
    },
    {
     "name": "stderr",
     "output_type": "stream",
     "text": [
      "setting the output map dtype to [dtype('float32')]\n"
     ]
    },
    {
     "name": "stdout",
     "output_type": "stream",
     "text": [
      "Completed 5888.446215139442 MHz.\n",
      "Processing 5904.382470119522 MHz...\n"
     ]
    },
    {
     "name": "stderr",
     "output_type": "stream",
     "text": [
      "setting the output map dtype to [dtype('float32')]\n"
     ]
    },
    {
     "name": "stdout",
     "output_type": "stream",
     "text": [
      "Completed 5904.382470119522 MHz.\n",
      "Processing 5920.318725099602 MHz...\n"
     ]
    },
    {
     "name": "stderr",
     "output_type": "stream",
     "text": [
      "setting the output map dtype to [dtype('float32')]\n"
     ]
    },
    {
     "name": "stdout",
     "output_type": "stream",
     "text": [
      "Completed 5920.318725099602 MHz.\n",
      "Processing 5936.254980079681 MHz...\n"
     ]
    },
    {
     "name": "stderr",
     "output_type": "stream",
     "text": [
      "setting the output map dtype to [dtype('float32')]\n"
     ]
    },
    {
     "name": "stdout",
     "output_type": "stream",
     "text": [
      "Completed 5936.254980079681 MHz.\n",
      "Processing 5952.191235059761 MHz...\n"
     ]
    },
    {
     "name": "stderr",
     "output_type": "stream",
     "text": [
      "setting the output map dtype to [dtype('float32')]\n"
     ]
    },
    {
     "name": "stdout",
     "output_type": "stream",
     "text": [
      "Completed 5952.191235059761 MHz.\n",
      "Processing 5968.12749003984 MHz...\n"
     ]
    },
    {
     "name": "stderr",
     "output_type": "stream",
     "text": [
      "setting the output map dtype to [dtype('float32')]\n"
     ]
    },
    {
     "name": "stdout",
     "output_type": "stream",
     "text": [
      "Completed 5968.12749003984 MHz.\n",
      "Processing 5984.06374501992 MHz...\n"
     ]
    },
    {
     "name": "stderr",
     "output_type": "stream",
     "text": [
      "setting the output map dtype to [dtype('float32')]\n"
     ]
    },
    {
     "name": "stdout",
     "output_type": "stream",
     "text": [
      "Completed 5984.06374501992 MHz.\n",
      "Processing 6000.0 MHz...\n"
     ]
    },
    {
     "name": "stderr",
     "output_type": "stream",
     "text": [
      "setting the output map dtype to [dtype('float32')]\n"
     ]
    },
    {
     "name": "stdout",
     "output_type": "stream",
     "text": [
      "Completed 6000.0 MHz.\n",
      "All maps have been processed and saved!\n"
     ]
    }
   ],
   "source": [
    "gsm_2016 = GlobalSkyModel16()\n",
    "\n",
    "fits_output_dir = \"/Users/hshishir/Desktop/spectra_2016/fits_file\"\n",
    "txt_output_dir = \"/Users/hshishir/Desktop/spectra_2016/pygsm_maps_tx_2016\"\n",
    "\n",
    "os.makedirs(fits_output_dir, exist_ok=True)\n",
    "os.makedirs(txt_output_dir, exist_ok=True)\n",
    "\n",
    "for freq in frequencies:\n",
    "    print(f\"Processing {freq} MHz...\")\n",
    "\n",
    "    sky_map = gsm_2016.generate(freq)\n",
    "\n",
    "    sky_map_ud = hp.ud_grade(sky_map, 64)\n",
    "\n",
    "    # Save the map as a FITS file\n",
    "    fits_file_path = os.path.join(fits_output_dir, f\"map_{freq}.fits\")\n",
    "    hp.write_map(fits_file_path, sky_map_ud, overwrite=True)\n",
    "\n",
    "    # Read the map from the FITS file (to ensure compatibility)\n",
    "    sky_map_tx = hp.read_map(fits_file_path)\n",
    "\n",
    "    # Save the map as a text file\n",
    "    txt_file_path = os.path.join(txt_output_dir, f\"map_{freq}.txt\")\n",
    "    np.savetxt(txt_file_path, sky_map_tx)\n",
    "\n",
    "    print(f\"Completed {freq} MHz.\")\n",
    "\n",
    "print(\"All maps have been processed and saved!\")\n"
   ]
  },
  {
   "cell_type": "code",
   "execution_count": 27,
   "id": "9289a457-bfee-4f11-b031-2631fb17c8a5",
   "metadata": {},
   "outputs": [
    {
     "name": "stdout",
     "output_type": "stream",
     "text": [
      "All maps have been processed and saved!\n",
      "Combined Array:\n",
      " [[0.29187989 0.26858127 0.24750672 ... 0.00533094 0.00528527 0.00524009]\n",
      " [0.29098898 0.26786399 0.24694183 ... 0.00524012 0.0051947  0.00514976]\n",
      " [0.28611404 0.26318914 0.24245557 ... 0.00514584 0.0051015  0.00505765]\n",
      " ...\n",
      " [0.32996356 0.30492878 0.28223351 ... 0.0065232  0.00646787 0.00641313]\n",
      " [0.33353043 0.30841398 0.28563896 ... 0.00707083 0.00701302 0.00695581]\n",
      " [0.34340394 0.31796628 0.29488394 ... 0.00769327 0.0076317  0.00757077]]\n"
     ]
    }
   ],
   "source": [
    "maps = []\n",
    "combined_output_dir = \"/Users/hshishir/Desktop/pygsm_maps_tx\"\n",
    "\n",
    "for freq in frequencies:\n",
    "    txt_file_path = os.path.join(txt_output_dir, f\"map_{freq}.txt\")\n",
    "    maps.append(np.loadtxt(txt_file_path))\n",
    "\n",
    "combined_array = np.column_stack(maps)\n",
    "\n",
    "combined_txt_path = os.path.join(combined_output_dir, 'combined_maps.txt')\n",
    "np.savetxt(combined_txt_path, combined_array)\n",
    "\n",
    "print(\"All maps have been processed and saved!\")\n",
    "print(\"Combined Array:\\n\", combined_array)"
   ]
  },
  {
   "cell_type": "code",
   "execution_count": 32,
   "id": "65e66e13-9a02-43b3-8a2e-3db9a7813283",
   "metadata": {},
   "outputs": [
    {
     "name": "stdout",
     "output_type": "stream",
     "text": [
      "Number of pixels got:  0\n",
      "Number of pixels got:  1000\n",
      "Number of pixels got:  2000\n",
      "Number of pixels got:  3000\n",
      "Number of pixels got:  4000\n",
      "Number of pixels got:  5000\n",
      "Number of pixels got:  6000\n",
      "Number of pixels got:  7000\n",
      "Number of pixels got:  8000\n",
      "Number of pixels got:  9000\n",
      "Number of pixels got:  10000\n",
      "Number of pixels got:  11000\n",
      "Number of pixels got:  12000\n",
      "Number of pixels got:  13000\n",
      "Number of pixels got:  14000\n",
      "Number of pixels got:  15000\n",
      "Number of pixels got:  16000\n",
      "Number of pixels got:  17000\n",
      "Number of pixels got:  18000\n",
      "Number of pixels got:  19000\n",
      "Number of pixels got:  20000\n",
      "Number of pixels got:  21000\n",
      "Number of pixels got:  22000\n",
      "Number of pixels got:  23000\n",
      "Number of pixels got:  24000\n",
      "Number of pixels got:  25000\n",
      "Number of pixels got:  26000\n",
      "Number of pixels got:  27000\n",
      "Number of pixels got:  28000\n",
      "Number of pixels got:  29000\n",
      "Number of pixels got:  30000\n",
      "Number of pixels got:  31000\n",
      "Number of pixels got:  32000\n",
      "Number of pixels got:  33000\n",
      "Number of pixels got:  34000\n",
      "Number of pixels got:  35000\n",
      "Number of pixels got:  36000\n",
      "Number of pixels got:  37000\n",
      "Number of pixels got:  38000\n",
      "Number of pixels got:  39000\n",
      "Number of pixels got:  40000\n",
      "Number of pixels got:  41000\n",
      "Number of pixels got:  42000\n",
      "Number of pixels got:  43000\n",
      "Number of pixels got:  44000\n",
      "Number of pixels got:  45000\n",
      "Number of pixels got:  46000\n",
      "Number of pixels got:  47000\n",
      "Number of pixels got:  48000\n",
      "Number of pixels got:  49000\n",
      "No. of spectra got =  1\n"
     ]
    },
    {
     "data": {
      "image/png": "[encoded data removed]",
      "text/plain": [
       "<Figure size 640x480 with 1 Axes>"
      ]
     },
     "metadata": {},
     "output_type": "display_data"
    },
    {
     "data": {
      "image/png": "[encoded data removed]",
      "text/plain": [
       "<Figure size 640x480 with 1 Axes>"
      ]
     },
     "metadata": {},
     "output_type": "display_data"
    }
   ],
   "source": [
    "t = 0\n",
    "while t < n_spectra:\n",
    "    i = 0\n",
    "    while i < 49152:  # Working on each pixel\n",
    "        coords = hp.pixelfunc.pix2ang(16, i, nest = True, lonlat=True)  # Gives l and b coordinates for each pixel\n",
    "        gc = SkyCoord(l=coords[0] * u.degree, b=coords[1] * u.degree, frame='galactic')\n",
    "\n",
    "        # Now, the coordinates in Galactic frame are changed to equatorial frame below\n",
    "        equi = gc.transform_to(AltAz(obstime=Time_in_UTC[t], location=EarthLocation(lat=latitude * u.deg, lon=longitude * u.deg, height=altitude * u.m)))\n",
    "        alt = equi.alt.value\n",
    "        new_alt = refraction(alt, altitude)\n",
    "\n",
    "        \n",
    "\n",
    "        # Using power law relation to fit spectra of three frequency maps\n",
    "        #def func(xx, a):\n",
    "            #return sky_408[i - 1] * np.power((xx / 0.408), a)\n",
    "\n",
    "        #xx = np.array([0.408, 1.420, 23])\n",
    "        #yy = np.array([sky_408[i - 1], sky_1420[i - 1], sky_23000[i - 1]])\n",
    "\n",
    "        #popt, pcov = curve_fit(func, xx, yy)\n",
    "        #a_param = popt[0]\n",
    "\n",
    "        j = 0\n",
    "        longitudes = equi.az.value\n",
    "        while j < 252:\n",
    "            new_map1 = combined_array[:,j]\n",
    "            if longitudes > 359.00:\n",
    "                longitudes = 359.00\n",
    "            cwt = beam_def(frequencies[j], new_alt, longitudes)\n",
    "            if cwt > 0:  # Adding all the three intensities\n",
    "                map_1 = new_map1[i - 1] * 1e-20 #* np.power(freqs[j] / 0.408, float(a_param))) / (c ** 2)\n",
    "                Power = (map_1 * cwt + CMB_Int[j]) * (c * c / (1e+12 * frequencies[j] ** 2))  # +Rec_int[j]\n",
    "                final_temp = (Power / P_dif[j]) * (T_hot - T_cold)\n",
    "                cross_real[j] = cross_real[j] + 1 * final_temp\n",
    "                sumwt[j] = sumwt[j] + cwt\n",
    "            j = j + 1\n",
    "\n",
    "        if i % 1000 == 0:\n",
    "            print('Number of pixels got: ', i)\n",
    "\n",
    "        i = i + 1\n",
    "\n",
    "    i = 0\n",
    "    while i < No_of_Channels:\n",
    "        if sumwt[i] > 0:\n",
    "            cross_real[i] = cross_real[i] / sumwt[i]  # normalization with respect to the beam pattern\n",
    "        i = i + 1\n",
    "\n",
    "   \n",
    "\n",
    "    sigma = (np.array(cross_real) + Trx + T_atm) / np.sqrt(Channel_width * 1e+9 * Noise_int_time)  # radiometric equation\n",
    "\n",
    "    # Generating an array of random integers with mean 0 and std 1.\n",
    "    array = np.random.normal(0, 1, No_of_Channels)\n",
    "\n",
    "    # Adding the gaussian error\n",
    "    cross_real = cross_real + array * sigma\n",
    "    cross_imag = cross_imag + array * sigma\n",
    "\n",
    "    spectra[t] = cross_real\n",
    "    spectra_cross_imag[t] = cross_imag\n",
    "\n",
    "    cross_real = [0] * No_of_Channels\n",
    "    cross_imag = [0] * No_of_Channels\n",
    "    sumwt = [0] * No_of_Channels\n",
    "    sigma = [0] * No_of_Channels\n",
    "    \n",
    "    print(\"No. of spectra got = \", t + 1)\n",
    "\n",
    "    t = t + 1\n",
    "\n",
    "Obs = ephem.Observer()\n",
    "t = Time(Time_in_UTC, scale='utc', location=(longitude, latitude))\n",
    "lst = t.sidereal_time('apparent')\n",
    "\n",
    "i = 0\n",
    "while i < n_spectra:\n",
    "    plt.plot(frequencies, spectra[i])\n",
    "    i = i + 1\n",
    "\n",
    "plt.xlabel('Frequency [GHz]')\n",
    "plt.ylabel('Temperature [K]')\n",
    "plt.title('Simulated Sky Spectrum at LST :%s' % lst)\n",
    "plt.grid()\n",
    "plt.show()\n",
    "\n",
    "plt.plot(frequencies, spectra[0])\n",
    "plt.xlabel('Frequency [GHz]')\n",
    "plt.ylabel('Temperature [K]')\n",
    "plt.title('One spectrum - Simulated Sky Spectrum at LST :%s' % lst[0])\n",
    "plt.grid()\n",
    "plt.show()"
   ]
  },
  {
   "cell_type": "code",
   "execution_count": null,
   "id": "c9611722-3c41-419a-a0c1-a2b50255ba5b",
   "metadata": {},
   "outputs": [],
   "source": []
  }
 ],
 "metadata": {
  "kernelspec": {
   "display_name": "Python 3 (ipykernel)",
   "language": "python",
   "name": "python3"
  },
  "language_info": {
   "codemirror_mode": {
    "name": "ipython",
    "version": 3
   },
   "file_extension": ".py",
   "mimetype": "text/x-python",
   "name": "python",
   "nbconvert_exporter": "python",
   "pygments_lexer": "ipython3",
   "version": "3.12.2"
  }
 },
 "nbformat": 4,
 "nbformat_minor": 5
}
